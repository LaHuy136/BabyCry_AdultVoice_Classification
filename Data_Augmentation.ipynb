{
 "cells": [
  {
   "cell_type": "code",
   "execution_count": 1,
   "metadata": {},
   "outputs": [],
   "source": [
    "import wave\n",
    "import librosa\n",
    "import numpy as np\n",
    "import matplotlib.pyplot as plt\n",
    "import os\n",
    "import glob\n",
    "import scipy\n",
    "import soundfile as sf"
   ]
  },
  {
   "cell_type": "code",
   "execution_count": 12,
   "metadata": {},
   "outputs": [],
   "source": [
    "class AudioAugmentation:\n",
    "    def read_audio_file(self, file_path):\n",
    "        data, sample_rate = librosa.load(file_path, sr=16000, mono=True)\n",
    "        return data, sample_rate\n",
    "\n",
    "    def write_audio_file(self, file, data, sample_rate):\n",
    "        sf.write(file, data, sample_rate, subtype='PCM_16')\n",
    "        \n",
    "    def add_noise(self, data):\n",
    "        noise = np.random.randn(len(data))  # Tạo nhiễu theo độ dài của dữ liệu\n",
    "        data_noise = data + 0.005 * noise\n",
    "        return data_noise\n",
    "    \n",
    "    def shift(self, data):\n",
    "        timeshift_fac = np.random.uniform(-0.2, 0.2)  # Shift lên đến 20% chiều dài dữ liệu\n",
    "        start = int(len(data) * timeshift_fac)\n",
    "\n",
    "        if start > 0:\n",
    "            shifted_data = np.pad(data, (start, 0), mode='constant')[:len(data)]\n",
    "        else:\n",
    "            shifted_data = np.pad(data, (0, -start), mode='constant')[-len(data):]\n",
    "\n",
    "        return shifted_data\n",
    "    \n",
    "    def stretch(self, data, rate=1.0): # Kéo dãn tín hiệu\n",
    "        return librosa.effects.time_stretch(data, rate=rate)\n",
    "\n",
    "\n",
    "# Create a new instance from AudioAugmentation class\n",
    "aa = AudioAugmentation()\n",
    "\n",
    "input_dir = 'burping'\n",
    "output_dir = 'data_infant_cry/burping'\n",
    "\n",
    "\n",
    "if not os.path.exists(output_dir):\n",
    "    os.makedirs(output_dir)\n",
    "\n",
    "file_list = os.listdir(input_dir)\n",
    "\n",
    "for file in file_list:\n",
    "    if not file.startswith('.'):\n",
    "        # Đọc file âm thanh\n",
    "        data, sr = aa.read_audio_file(os.path.join(input_dir, file))\n",
    "        \n",
    "        data_noise = aa.add_noise(data)\n",
    "        data_roll = aa.shift(data)\n",
    "        data_stretch = aa.stretch(data, 0.8)\n",
    "        \n",
    "        # Write generated cat sounds\n",
    "        aa.write_audio_file(os.path.join(output_dir, 'generated1_' + file), data_noise, sr)\n",
    "        aa.write_audio_file(os.path.join(output_dir, 'generated2_' + file), data_roll, sr)\n",
    "        aa.write_audio_file(os.path.join(output_dir, 'generated3_' + file), data_stretch, sr)"
   ]
  }
 ],
 "metadata": {
  "kernelspec": {
   "display_name": "Python 3",
   "language": "python",
   "name": "python3"
  },
  "language_info": {
   "codemirror_mode": {
    "name": "ipython",
    "version": 3
   },
   "file_extension": ".py",
   "mimetype": "text/x-python",
   "name": "python",
   "nbconvert_exporter": "python",
   "pygments_lexer": "ipython3",
   "version": "3.10.11"
  }
 },
 "nbformat": 4,
 "nbformat_minor": 2
}
