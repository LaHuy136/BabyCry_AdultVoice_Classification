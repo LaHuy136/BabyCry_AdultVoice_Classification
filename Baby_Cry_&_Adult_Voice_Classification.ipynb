{
  "cells": [
    {
      "cell_type": "markdown",
      "metadata": {
        "id": "gVlsnbhpZR1w"
      },
      "source": [
        "## Cài đặt thư viện"
      ]
    },
    {
      "cell_type": "code",
      "execution_count": 2,
      "metadata": {
        "id": "-DpW1NwZjXB8"
      },
      "outputs": [],
      "source": [
        "import os\n",
        "import numpy as np\n",
        "import librosa\n",
        "import pandas as pd\n",
        "import librosa.display\n",
        "import matplotlib.pyplot as plt\n",
        "from sklearn.model_selection import train_test_split\n",
        "from sklearn.neighbors import KNeighborsClassifier\n",
        "from sklearn.tree import DecisionTreeClassifier\n",
        "from sklearn.ensemble import RandomForestClassifier\n",
        "from xgboost import XGBClassifier\n",
        "from sklearn.preprocessing import LabelEncoder, StandardScaler\n",
        "from sklearn.metrics import classification_report, accuracy_score, f1_score\n",
        "from sklearn.model_selection import cross_val_score"
      ]
    },
    {
      "cell_type": "markdown",
      "metadata": {
        "id": "vxrJ1kOrZe6o"
      },
      "source": [
        "## 1. Tiền xử lý dữ liệu"
      ]
    },
    {
      "cell_type": "code",
      "execution_count": 3,
      "metadata": {
        "colab": {
          "base_uri": "https://localhost:8080/",
          "height": 547
        },
        "id": "A1yFt1qo0wiB",
        "outputId": "dfde37eb-43fe-4a8b-a17c-20023d38234f"
      },
      "outputs": [
        {
          "data": {
            "image/png": "[encoded data removed]",
            "text/plain": [
              "<Figure size 1000x600 with 1 Axes>"
            ]
          },
          "metadata": {},
          "output_type": "display_data"
        }
      ],
      "source": [
        "rebalanced_dataset_dir = 'data'\n",
        "# Đếm số lượng file trong mỗi thư mục (ứng với mỗi class)\n",
        "rebalance_class_counts = {}\n",
        "for class_folder in os.listdir(rebalanced_dataset_dir):\n",
        "    class_path = os.path.join(rebalanced_dataset_dir, class_folder)\n",
        "    if os.path.isdir(class_path):\n",
        "        num_files = len(os.listdir(class_path))\n",
        "        rebalance_class_counts[class_folder] = num_files\n",
        "\n",
        "# Vẽ biểu đồ cột\n",
        "labels = list(rebalance_class_counts.keys())\n",
        "counts = list(rebalance_class_counts.values())\n",
        "colors = ['green', 'blue']\n",
        "plt.figure(figsize=(10, 6))\n",
        "plt.bar(labels, counts, color=colors)\n",
        "\n",
        "plt.ylabel('Số lượng')\n",
        "plt.title('Số lượng mẫu ban đầu')\n",
        "plt.show()"
      ]
    },
    {
      "cell_type": "code",
      "execution_count": 4,
      "metadata": {
        "id": "-VKuLLbcoabi"
      },
      "outputs": [],
      "source": [
        "baby_cry_path = 'data/baby cry'\n",
        "adult_voice_path = 'data/adult voice'\n",
        "\n",
        "# Hàm chuẩn hóa thời gian âm thanh về 7 giây\n",
        "def normalize_audio_length(y, sr, target_duration=7):\n",
        "    target_length = sr * target_duration  # Số lượng mẫu tương ứng với 7 giây\n",
        "    if len(y) > target_length:\n",
        "        # Cắt ngắn tín hiệu nếu dài hơn 7 giây\n",
        "        y = y[:target_length]\n",
        "    elif len(y) < target_length:\n",
        "        # Padding nếu tín hiệu ngắn hơn 7 giây\n",
        "        padding = target_length - len(y)\n",
        "        y = np.pad(y, (0, padding), 'constant')\n",
        "    return y"
      ]
    },
    {
      "cell_type": "markdown",
      "metadata": {
        "id": "tUuQ8HVIZjNo"
      },
      "source": [
        "## 2. Trích xuất đặc trưng"
      ]
    },
    {
      "cell_type": "code",
      "execution_count": 5,
      "metadata": {
        "id": "fLo_ik3Yj-33"
      },
      "outputs": [],
      "source": [
        "# Hàm trích xuất đặc trưng Spectrogram sử dụng cửa sổ Hamming\n",
        "def extract_spectrogram_features(y, sr, n_fft=2048, hop_length=512):\n",
        "    # Áp dụng cửa sổ Hamming\n",
        "    window = np.hamming(n_fft)\n",
        "    # Tính Spectrogram\n",
        "    spectrogram = np.abs(librosa.stft(y, n_fft=n_fft, hop_length=hop_length, window=window))**2\n",
        "    # Chuyển đổi sang dB\n",
        "    spectrogram_db = librosa.power_to_db(spectrogram, ref=np.max)\n",
        "    return spectrogram_db"
      ]
    },
    {
      "cell_type": "code",
      "execution_count": 6,
      "metadata": {
        "id": "S6kKP8_g_pIz"
      },
      "outputs": [],
      "source": [
        "features_list = []\n",
        "labels_list = []\n",
        "#  Hàm xử lý file âm thanh trong thư mục và trích xuất Spectrogram\n",
        "def process_directory(directory, label, sr=16000, target_duration=7):\n",
        "    for filename in os.listdir(directory):\n",
        "        if filename.endswith('.wav'):\n",
        "            file_path = os.path.join(directory, filename)\n",
        "            y, sr = librosa.load(file_path, sr=sr)\n",
        "            y = normalize_audio_length(y, sr, target_duration)\n",
        "            features = extract_spectrogram_features(y, sr)\n",
        "            features_list.append(features)\n",
        "            labels_list.append(label)\n",
        "    return features_list, labels_list"
      ]
    },
    {
      "cell_type": "code",
      "execution_count": 8,
      "metadata": {
        "id": "TU9JcfAAaWyI"
      },
      "outputs": [
        {
          "name": "stdout",
          "output_type": "stream",
          "text": [
            "224475\n",
            "(400, 224475)\n"
          ]
        }
      ],
      "source": [
        "# Xử lý các tệp âm thanh trong thư mục\n",
        "process_directory(baby_cry_path, 'Baby Cry')\n",
        "process_directory(adult_voice_path, 'Adult Voice')\n",
        "\n",
        "# # Chuyển đổi danh sách thành mảng numpy và\n",
        "# # Chuẩn hóa tất cả các vector đặc trưng về cùng độ dài để có thể đưa vào mô hình học máy\n",
        "# max_len = max(len(feature) for feature in features_list)\n",
        "# X = np.zeros((len(features_list), max_len))\n",
        "\n",
        "# for i, feature in enumerate(features_list):\n",
        "#     X[i, :len(feature)] = feature\n",
        "#     print(len(X))\n",
        "\n",
        "# Chuyển đổi danh sách thành mảng numpy và chuẩn hóa kích thước\n",
        "num_features = features_list[0].shape[0] * features_list[0].shape[1]\n",
        "print(num_features)\n",
        "X = np.array([feature.reshape(num_features) for feature in features_list])\n",
        "print(X.shape)\n",
        "\n",
        "# Chuẩn hóa đặc trưng với StandardScaler\n",
        "scaler = StandardScaler()\n",
        "X = scaler.fit_transform(X)\n",
        "\n",
        "# Mã hóa nhãn\n",
        "label_encoder = LabelEncoder()\n",
        "y = label_encoder.fit_transform(labels_list)"
      ]
    },
    {
      "cell_type": "markdown",
      "metadata": {
        "id": "0BQ2g_lyZ1g5"
      },
      "source": [
        "## 3. Huấn luyện mô hình"
      ]
    },
    {
      "cell_type": "code",
      "execution_count": 9,
      "metadata": {
        "colab": {
          "base_uri": "https://localhost:8080/"
        },
        "id": "W0duUCbnZ-Cx",
        "outputId": "271e9829-9b1e-4fc2-fa51-959fd58364ed"
      },
      "outputs": [],
      "source": [
        "# Chia tập dữ liệu\n",
        "X_train, X_test, y_train, y_test = train_test_split(X, y, test_size=0.3, random_state=42, stratify=y)"
      ]
    },
    {
      "cell_type": "code",
      "execution_count": null,
      "metadata": {
        "colab": {
          "base_uri": "https://localhost:8080/",
          "height": 749
        },
        "id": "ikX4oZxFZ9Aw",
        "outputId": "ba52a67b-db8e-4dca-f99b-2ecff7d9a039"
      },
      "outputs": [],
      "source": [
        "# Danh sách các mô hình để thử nghiệm\n",
        "models = {\n",
        "    'K-Neighbors Classifier': KNeighborsClassifier(),\n",
        "    'Decision Tree Classifier': DecisionTreeClassifier(),\n",
        "    'Random Forest Classifier': RandomForestClassifier(),\n",
        "    'XGBClassifier': XGBClassifier(eval_metric='mlogloss')\n",
        "}\n",
        "\n",
        "results = []\n",
        "for model_name, model in models.items():\n",
        "    # Perform cross-validation\n",
        "    scores = cross_val_score(model, X, y, cv=5, scoring='f1_weighted')\n",
        "    # Train the model on the training data\n",
        "    model.fit(X_train, y_train)\n",
        "    # Make predictions on the test data\n",
        "    y_pred = model.predict(X_test)  # Define y_pred here\n",
        "    # Calculate accuracy\n",
        "    accuracy = accuracy_score(y_test, y_pred)\n",
        "    # Calculate F1 score (weighted)\n",
        "    f1 = f1_score(y_test, y_pred, average='weighted')\n",
        "    # Print and store results\n",
        "    print(f\"Model: {model_name}, Accuracy: {accuracy:.2f}, F1 score: {scores.mean():.4f}\")\n",
        "    results.append({'Algorithm': model_name, 'Accuracy Score': accuracy, 'F1 Score': f1})\n",
        "\n",
        "# Chuyển kết quả sang DataFrame\n",
        "results_df = pd.DataFrame(results)\n",
        "\n",
        "# Hiển thị bảng kết quả\n",
        "print(results_df)\n",
        "\n",
        "# Vẽ biểu đồ độ chính xác\n",
        "plt.figure(figsize=(10, 5))\n",
        "plt.bar(results_df['Algorithm'], results_df['F1 Score'], color='skyblue')\n",
        "plt.title('Model Performance Comparison')\n",
        "plt.ylabel('F1 score')\n",
        "plt.xticks(rotation=45)\n",
        "plt.show()"
      ]
    },
    {
      "cell_type": "markdown",
      "metadata": {
        "id": "-PPiIKdhaCzu"
      },
      "source": [
        "### Tối ưu hóa tham số mô hình Random Forest (RF)"
      ]
    },
    {
      "cell_type": "code",
      "execution_count": null,
      "metadata": {
        "colab": {
          "base_uri": "https://localhost:8080/"
        },
        "id": "ldX-ZPFLJj-m",
        "outputId": "742e2ae4-160c-4f99-ac16-077aedf760ce"
      },
      "outputs": [],
      "source": [
        "# from sklearn.model_selection import RandomizedSearchCV\n",
        "\n",
        "# param_grid = {'n_estimators': [50, 100, 200, 300, 400],\n",
        "#               'max_depth': [None, 10, 20, 30, 40, 50],\n",
        "#               'max_features': ['sqrt', 'log2'],\n",
        "#               'min_samples_split': [2, 5, 10],\n",
        "#               'min_samples_leaf': [1, 2, 4],\n",
        "#               'bootstrap': [True, False],\n",
        "#               'criterion': ['gini', 'entropy']\n",
        "#              }\n",
        "# grid_search = RandomizedSearchCV (RandomForestClassifier(), param_grid, n_iter=100, cv=5, scoring='f1_weighted')\n",
        "# grid_search.fit(X_train, y_train)\n",
        "# print(\"Best parameters: \", grid_search.best_params_)"
      ]
    },
    {
      "cell_type": "code",
      "execution_count": null,
      "metadata": {
        "colab": {
          "base_uri": "https://localhost:8080/"
        },
        "id": "G-Na4VYL00T_",
        "outputId": "3ea8476d-4473-4b8e-8dcb-39d6050e5545"
      },
      "outputs": [],
      "source": [
        "# from sklearn.ensemble import RandomForestClassifier\n",
        "\n",
        "# # Khởi tạo mô hình với các siêu tham số tốt nhất\n",
        "# best_params = {'n_estimators': 300,\n",
        "#                'min_samples_split': 5,\n",
        "#                'min_samples_leaf': 1,\n",
        "#                'max_features': 'log2',\n",
        "#                'max_depth': 50,\n",
        "#                'criterion': 'gini',\n",
        "#                'bootstrap': False}\n",
        "\n",
        "# model = RandomForestClassifier(**best_params)\n",
        "\n",
        "# # Huấn luyện mô hình\n",
        "# model.fit(X_train, y_train)\n",
        "\n",
        "# # Dự đoán trên tập kiểm tra\n",
        "# y_pred = model.predict(X_test)\n",
        "\n",
        "# # Đánh giá mô hình\n",
        "# accuracy = accuracy_score(y_test, y_pred)\n",
        "# f1 = f1_score(y_test, y_pred, average='weighted')\n",
        "\n",
        "# print(f\"Accuracy: {accuracy} F1 Score: {f1}\")"
      ]
    },
    {
      "cell_type": "markdown",
      "metadata": {
        "id": "xCbird34v9ee"
      },
      "source": [
        "### Lưu mô hình"
      ]
    },
    {
      "cell_type": "code",
      "execution_count": null,
      "metadata": {
        "colab": {
          "base_uri": "https://localhost:8080/"
        },
        "id": "9Q-5Q5L3vkgX",
        "outputId": "3106f000-0e7b-4c8d-e36c-a067ed0dfbe3"
      },
      "outputs": [],
      "source": [
        "# import joblib\n",
        "\n",
        "# model_filename = 'randomforest_model.pkl'\n",
        "\n",
        "# # Lưu mô hình\n",
        "# joblib.dump(model, model_filename)\n",
        "\n",
        "# print(f\"Mô hình đã được lưu thành công tại {model_filename}\")"
      ]
    },
    {
      "cell_type": "markdown",
      "metadata": {
        "id": "J2S81pOGv-2t"
      },
      "source": [
        "### Tải mô hình"
      ]
    },
    {
      "cell_type": "code",
      "execution_count": null,
      "metadata": {
        "colab": {
          "base_uri": "https://localhost:8080/"
        },
        "id": "CRxjU8Xpv8NX",
        "outputId": "ba7460b3-efb1-4062-96c8-d8c7d82daa7e"
      },
      "outputs": [],
      "source": [
        "# # Tải mô hình đã lưu\n",
        "# loaded_model = joblib.load(model_filename)\n",
        "\n",
        "# # Sử dụng mô hình để dự đoán\n",
        "# y_pred = loaded_model.predict(X_test)\n",
        "\n",
        "# print(\"Mô hình đã được tải và sẵn sàng sử dụng.\")"
      ]
    },
    {
      "cell_type": "code",
      "execution_count": null,
      "metadata": {
        "colab": {
          "base_uri": "https://localhost:8080/"
        },
        "id": "z76aBXuTxzMz",
        "outputId": "dba77bef-f80c-47ec-dda9-46e429cbd59d"
      },
      "outputs": [],
      "source": [
        "# # Tính accuracy\n",
        "# accuracy = accuracy_score(y_test, y_pred)\n",
        "# f1 = f1_score(y_test, y_pred, average='weighted')\n",
        "# print(f\"               Algorithm  Accuracy Score  F1 Score\")\n",
        "# print(f\"Random Forest Classifier        {accuracy:.6f}  {f1:.6f}\")\n"
      ]
    },
    {
      "cell_type": "markdown",
      "metadata": {
        "id": "0mW662T2aJzG"
      },
      "source": [
        "### Ma trận nhầm lẫn"
      ]
    },
    {
      "cell_type": "code",
      "execution_count": null,
      "metadata": {
        "colab": {
          "base_uri": "https://localhost:8080/",
          "height": 547
        },
        "id": "6S9Xt8p0Kx3E",
        "outputId": "34e96625-b627-4751-b65b-8830db657201"
      },
      "outputs": [],
      "source": [
        "from sklearn.metrics import confusion_matrix\n",
        "import seaborn as sns\n",
        "\n",
        "# Tính toán ma trận nhầm lẫn\n",
        "conf_matrix = confusion_matrix(y_test, y_pred)\n",
        "\n",
        "# Chuyển đổi ma trận nhầm lẫn thành tỷ lệ phần trăm\n",
        "conf_matrix_percent = conf_matrix.astype('float') / conf_matrix.sum(axis=1)[:, np.newaxis] * 100\n",
        "\n",
        "# Hiển thị ma trận nhầm lẫn dưới dạng phần trăm\n",
        "plt.figure(figsize=(8, 6))\n",
        "sns.heatmap(conf_matrix_percent, annot=True, fmt='.2f', cmap='Blues', xticklabels=label_encoder.classes_, yticklabels=label_encoder.classes_)\n",
        "plt.ylabel('True label')\n",
        "plt.xlabel('Predict label')\n",
        "plt.show()"
      ]
    }
  ],
  "metadata": {
    "colab": {
      "provenance": []
    },
    "kernelspec": {
      "display_name": "Python 3",
      "name": "python3"
    },
    "language_info": {
      "codemirror_mode": {
        "name": "ipython",
        "version": 3
      },
      "file_extension": ".py",
      "mimetype": "text/x-python",
      "name": "python",
      "nbconvert_exporter": "python",
      "pygments_lexer": "ipython3",
      "version": "3.10.11"
    }
  },
  "nbformat": 4,
  "nbformat_minor": 0
}
