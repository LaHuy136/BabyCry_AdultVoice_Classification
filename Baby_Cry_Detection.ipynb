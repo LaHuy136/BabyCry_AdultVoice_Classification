{
  "cells": [
    {
      "cell_type": "markdown",
      "metadata": {
        "id": "gVlsnbhpZR1w"
      },
      "source": [
        "## Cài đặt thư viện"
      ]
    },
    {
      "cell_type": "code",
      "execution_count": 115,
      "metadata": {
        "id": "-DpW1NwZjXB8"
      },
      "outputs": [],
      "source": [
        "import os\n",
        "import librosa\n",
        "import numpy as np\n",
        "import pandas as pd\n",
        "import matplotlib.pyplot as plt\n",
        "from sklearn.model_selection import train_test_split, cross_val_score\n",
        "from sklearn.metrics import accuracy_score, f1_score, confusion_matrix, ConfusionMatrixDisplay\n",
        "from sklearn.ensemble import RandomForestClassifier\n",
        "from sklearn.neighbors import KNeighborsClassifier\n",
        "from sklearn.tree import DecisionTreeClassifier"
      ]
    },
    {
      "cell_type": "markdown",
      "metadata": {},
      "source": [
        "### Hiển thị tập dữ liệu"
      ]
    },
    {
      "cell_type": "code",
      "execution_count": 132,
      "metadata": {},
      "outputs": [
        {
          "name": "stdout",
          "output_type": "stream",
          "text": [
            "          Lớp  Số Lượng     Tỷ Lệ\n",
            "0  belly_pain        36  0.210526\n",
            "1     burping        27  0.157895\n",
            "2  discomfort        36  0.210526\n",
            "3      scared        30  0.175439\n",
            "4       tired        42  0.245614\n",
            "5       tổng       171  1.000000\n"
          ]
        },
        {
          "data": {
            "image/png": "[encoded data removed]",
            "text/plain": [
              "<Figure size 1000x600 with 1 Axes>"
            ]
          },
          "metadata": {},
          "output_type": "display_data"
        }
      ],
      "source": [
        "dataset_dir = 'data_bbcry_or_not'\n",
        "# Đếm số lượng file trong mỗi thư mục (ứng với mỗi class)\n",
        "class_counts = {}\n",
        "for class_folder in os.listdir(dataset_dir):\n",
        "    class_path = os.path.join(dataset_dir, class_folder)\n",
        "    if os.path.isdir(class_path):\n",
        "        num_files = len(os.listdir(class_path))\n",
        "        class_counts[class_folder] = num_files\n",
        "\n",
        "# Tạo DataFrame từ dữ liệu đã lấy\n",
        "data = {\n",
        "    'Lớp': list(class_counts.keys()),\n",
        "    'Số Lượng': list(class_counts.values()),\n",
        "}\n",
        "\n",
        "total_count = sum(class_counts.values())\n",
        "data['Tỷ Lệ'] = [count / total_count for count in data['Số Lượng']]\n",
        "data['Tỷ Lệ'].append(1.0)  # Tỷ lệ cho tổng\n",
        "\n",
        "data['Lớp'].append('tổng')\n",
        "data['Số Lượng'].append(total_count)\n",
        "\n",
        "df = pd.DataFrame(data)\n",
        "print(df)\n",
        "\n",
        "# Vẽ biểu đồ cột\n",
        "labels = df['Lớp'][:-1] \n",
        "counts = df['Số Lượng'][:-1]  \n",
        "colors = ['green', 'blue', 'red', 'yellow'] + ['orange'] * (len(labels) - 2)  \n",
        "\n",
        "plt.figure(figsize=(10, 6))\n",
        "plt.bar(labels, counts, color=colors)\n",
        "plt.ylabel('Số lượng')\n",
        "plt.show()"
      ]
    },
    {
      "cell_type": "markdown",
      "metadata": {
        "id": "vxrJ1kOrZe6o"
      },
      "source": [
        "### 1. Tiền xử lý dữ liệu"
      ]
    },
    {
      "cell_type": "code",
      "execution_count": 117,
      "metadata": {
        "id": "-VKuLLbcoabi"
      },
      "outputs": [],
      "source": [
        "baby_cry_path = 'data_bbcry_or_not/baby cry'\n",
        "environment_sound_path = 'data_bbcry_or_not/environment sound'\n",
        "\n",
        "# Hàm chuẩn hóa độ dài tín hiệu âm thanh về 5 giây\n",
        "def normalize_audio_length(y, sr, target_duration=5):\n",
        "    target_length = int(sr * target_duration)\n",
        "    \n",
        "    if len(y) > target_length:\n",
        "        # Nếu tín hiệu dài hơn 5s, cắt bớt\n",
        "        y = y[:target_length]\n",
        "    elif len(y) < target_length:\n",
        "        # Nếu tín hiệu ngắn hơn 5s, thêm padding\n",
        "        padding = target_length - len(y)\n",
        "        y = np.pad(y, (0, padding), mode='constant')\n",
        "    \n",
        "    return y"
      ]
    },
    {
      "cell_type": "code",
      "execution_count": 118,
      "metadata": {},
      "outputs": [],
      "source": [
        "# n_mfcc = 12\n",
        "# n_fft = 1024  # setting the FFT size to 1024\n",
        "# hop_length = 15*16 # 25ms*16khz samples has been taken\n",
        "# win_length = 30*16 #25ms*16khz samples has been taken for window length\n",
        "# window = 'hann' #hann window used\n",
        "# n_chroma=12\n",
        "# n_mels=128\n",
        "# n_bands=7 #we are extracting the 7 features out of the spectral contrast\n",
        "# fmin=100\n",
        "# bins_per_ocatve=12"
      ]
    },
    {
      "cell_type": "code",
      "execution_count": 119,
      "metadata": {},
      "outputs": [],
      "source": [
        "# def extract_features(y, sr):    \n",
        "#     mfcc = np.mean(librosa.feature.mfcc(y=y, sr=sr, n_mfcc=12,n_fft=n_fft,hop_length=hop_length,win_length=win_length,window=window).T,axis=0)\n",
        "#     mel = np.mean(librosa.feature.melspectrogram(y=y, sr=sr,n_fft=n_fft, hop_length=hop_length, win_length=win_length, window='hann',n_mels=n_mels).T,axis=0)\n",
        "#     stft = np.abs(librosa.stft(y))\n",
        "#     chroma = np.mean(librosa.feature.chroma_stft(S=stft, y=y, sr=sr).T,axis=0)\n",
        "#     contrast = np.mean(librosa.feature.spectral_contrast(S=stft, y=y, sr=sr,n_fft=n_fft,\n",
        "#                                                     hop_length=hop_length, win_length=win_length,\n",
        "#                                                     n_bands=n_bands, fmin=fmin).T,axis=0)\n",
        "#     tonnetz =np.mean(librosa.feature.tonnetz(y=y, sr=sr).T,axis=0)\n",
        "#     features = np.concatenate((mfcc, chroma, mel, contrast, tonnetz))\n",
        "#     # print(features.shape)\n",
        "#     return features"
      ]
    },
    {
      "cell_type": "markdown",
      "metadata": {},
      "source": [
        "### 2. Trích xuất đặc trưng"
      ]
    },
    {
      "cell_type": "code",
      "execution_count": 120,
      "metadata": {},
      "outputs": [],
      "source": [
        "def extract_features(y, sr):\n",
        "    win_length = int(0.03 * sr)\n",
        "    hop_length = win_length // 2\n",
        "    n_fft = 2048\n",
        "    \n",
        "    # Trích xuất Mel Scale\n",
        "    mel_spectrogram = librosa.feature.melspectrogram(y=y, sr=sr, n_fft=n_fft, hop_length=hop_length, win_length=win_length, n_mels=15)\n",
        "    mel_scale = mel_spectrogram.mean(axis=1)  # Tính trung bình dọc theo trục thứ nhất (trục tần số)\n",
        "\n",
        "    # Trích xuất MFCC\n",
        "    mfccs = librosa.feature.mfcc(y=y, sr=sr, n_mfcc=12, hop_length=hop_length, n_fft=n_fft)\n",
        "    mfcc_mean = mfccs.mean(axis=1)  # Tính trung bình dọc theo trục thứ nhất (trục MFCC)\n",
        "\n",
        "    # Trích xuất Constant-Q Chromagram với điều chỉnh tham số\n",
        "    fmin = librosa.note_to_hz('C2')  # Tần số tối thiểu khoảng 65Hz\n",
        "    n_bins = 36  # Giảm số lượng tần số bin\n",
        "    cqt = librosa.cqt(y, sr=sr, hop_length=hop_length, fmin=fmin, n_bins=n_bins)\n",
        "    chroma = librosa.feature.chroma_cqt(C=np.abs(cqt), sr=sr)\n",
        "    chroma_mean = chroma.mean(axis=1)  # Tính trung bình dọc theo trục thứ nhất (trục chroma)\n",
        "\n",
        "    # Kết hợp các đặc trưng\n",
        "    features = np.concatenate([mel_scale, mfcc_mean])\n",
        "\n",
        "    return features"
      ]
    },
    {
      "cell_type": "markdown",
      "metadata": {},
      "source": [
        "### Đọc dữ liệu và gán nhãn"
      ]
    },
    {
      "cell_type": "code",
      "execution_count": 121,
      "metadata": {},
      "outputs": [],
      "source": [
        "def load_data(directory, label):\n",
        "    features = []\n",
        "    labels = []\n",
        "    for filename in os.listdir(directory):\n",
        "        if filename.endswith('.wav'):\n",
        "            filepath = os.path.join(directory, filename)\n",
        "            y, sr = librosa.load(filepath, sr=16000)\n",
        "            \n",
        "            # Chuẩn hóa độ dài tín hiệu\n",
        "            y = normalize_audio_length(y, sr)\n",
        "            \n",
        "            # Trích xuất đặc trưng và gán nhãn\n",
        "            features.append(extract_features(y, sr))\n",
        "            labels.append(label)\n",
        "    \n",
        "    return features, labels"
      ]
    },
    {
      "cell_type": "code",
      "execution_count": 122,
      "metadata": {},
      "outputs": [],
      "source": [
        "# # Tạo tập dữ liệu\n",
        "adult_features, adult_labels = load_data(environment_sound_path, label=0)\n",
        "baby_features, baby_labels = load_data(baby_cry_path, label=1)\n",
        "\n",
        "# # Kết hợp dữ liệu\n",
        "X = np.array(baby_features + adult_features)\n",
        "y = np.array(baby_labels + adult_labels)"
      ]
    },
    {
      "cell_type": "code",
      "execution_count": 123,
      "metadata": {},
      "outputs": [
        {
          "name": "stdout",
          "output_type": "stream",
          "text": [
            "Shape of features array: (200, 27)\n",
            "Shape of labels array: (200,)\n"
          ]
        }
      ],
      "source": [
        "# Kiểm tra kích thước của các mảng nhãn và đặc trưng\n",
        "print(\"Shape of features array:\", X.shape)\n",
        "print(\"Shape of labels array:\", y.shape)"
      ]
    },
    {
      "cell_type": "markdown",
      "metadata": {},
      "source": [
        "### Tạo tập dữ liệu huấn luyện"
      ]
    },
    {
      "cell_type": "code",
      "execution_count": 124,
      "metadata": {},
      "outputs": [],
      "source": [
        "X_train, X_test, y_train, y_test = train_test_split(X, y, test_size=0.3, random_state=42)"
      ]
    },
    {
      "cell_type": "code",
      "execution_count": 125,
      "metadata": {},
      "outputs": [
        {
          "name": "stdout",
          "output_type": "stream",
          "text": [
            "(140, 27)\n",
            "(140,)\n",
            "(60, 27)\n",
            "(60,)\n"
          ]
        }
      ],
      "source": [
        "print(X_train.shape)\n",
        "print(y_train.shape)\n",
        "print(X_test.shape)\n",
        "print(y_test.shape)"
      ]
    },
    {
      "cell_type": "markdown",
      "metadata": {},
      "source": [
        "### 3. Huấn luyện mô hình"
      ]
    },
    {
      "cell_type": "code",
      "execution_count": 126,
      "metadata": {},
      "outputs": [
        {
          "name": "stdout",
          "output_type": "stream",
          "text": [
            "Model: Random Forest, Accuracy: 1.000000, F1 score: 1.000000\n",
            "Model: K-Nearest Neighbors, Accuracy: 0.950000, F1 score: 0.949790\n",
            "Model: Decision Tree, Accuracy: 0.983333, F1 score: 0.983338\n",
            "             Algorithm  Accuracy Score  F1 Score\n",
            "0        Random Forest        1.000000  1.000000\n",
            "1  K-Nearest Neighbors        0.950000  0.949790\n",
            "2        Decision Tree        0.983333  0.983338\n"
          ]
        },
        {
          "data": {
            "image/png": "[encoded data removed]",
            "text/plain": [
              "<Figure size 1000x500 with 1 Axes>"
            ]
          },
          "metadata": {},
          "output_type": "display_data"
        }
      ],
      "source": [
        "# Khởi tạo và huấn luyện các mô hình\n",
        "models = {\n",
        "    \"Random Forest\": RandomForestClassifier(n_estimators=100, random_state=42),\n",
        "    \"K-Nearest Neighbors\": KNeighborsClassifier(n_neighbors=5),\n",
        "    \"Decision Tree\": DecisionTreeClassifier(random_state=42)\n",
        "}\n",
        "results = []\n",
        "# Huấn luyện và đánh giá các mô hình\n",
        "for model_name, model in models.items():\n",
        "    # Perform cross-validation\n",
        "    scores = cross_val_score(model, X, y, cv=5, scoring='f1_weighted')\n",
        "    # Train the model on the training data\n",
        "    model.fit(X_train, y_train)\n",
        "    y_pred = model.predict(X_test)  \n",
        "    # Calculate accuracy\n",
        "    accuracy = accuracy_score(y_test, y_pred)\n",
        "    # Calculate F1 score (weighted)\n",
        "    f1 = f1_score(y_test, y_pred, average='weighted')\n",
        "    print(f\"Model: {model_name}, Accuracy: {accuracy:.6f}, F1 score: {f1:.6f}\")\n",
        "    results.append({'Algorithm': model_name, 'Accuracy Score': accuracy, 'F1 Score': f1})\n",
        "\n",
        "# Chuyển kết quả sang DataFrame\n",
        "results_df = pd.DataFrame(results)\n",
        "\n",
        "# Hiển thị bảng kết quả\n",
        "print(results_df)\n",
        "\n",
        "# Vẽ biểu đồ độ chính xác\n",
        "plt.figure(figsize=(10, 5))\n",
        "plt.bar(results_df['Algorithm'], results_df['F1 Score'], color='skyblue')\n",
        "plt.title('Model Performance Comparison')\n",
        "plt.ylabel('F1 score')\n",
        "plt.show()"
      ]
    },
    {
      "cell_type": "code",
      "execution_count": 127,
      "metadata": {},
      "outputs": [
        {
          "data": {
            "image/png": "[encoded data removed]",
            "text/plain": [
              "<Figure size 640x480 with 2 Axes>"
            ]
          },
          "metadata": {},
          "output_type": "display_data"
        }
      ],
      "source": [
        "# Huấn luyện mô hình Random Forest\n",
        "decisiontree_model = DecisionTreeClassifier(random_state=42)\n",
        "decisiontree_model.fit(X_train, y_train)\n",
        "\n",
        "# Dự đoán và tính ma trận nhầm lẫn\n",
        "y_pred = decisiontree_model.predict(X_test)\n",
        "cm = confusion_matrix(y_test, y_pred)\n",
        "\n",
        "cm_percent = cm.astype('float') / cm.sum(axis=1)[:, np.newaxis] * 100\n",
        "\n",
        "disp = ConfusionMatrixDisplay(confusion_matrix=cm_percent, display_labels=['Baby No cry', 'Baby Cry'])\n",
        "disp.plot(cmap='Blues', values_format=\".2f\")  \n",
        "plt.title(\"Confusion Matrix - Decision Tree on Test Set\")\n",
        "plt.show()"
      ]
    },
    {
      "cell_type": "markdown",
      "metadata": {},
      "source": [
        "### Ma trận nhầm lẫn"
      ]
    },
    {
      "cell_type": "code",
      "execution_count": 128,
      "metadata": {},
      "outputs": [
        {
          "data": {
            "image/png": "[encoded data removed]",
            "text/plain": [
              "<Figure size 640x480 with 2 Axes>"
            ]
          },
          "metadata": {},
          "output_type": "display_data"
        }
      ],
      "source": [
        "# Huấn luyện mô hình Random Forest\n",
        "rf_model = RandomForestClassifier(n_estimators=100, random_state=42)\n",
        "rf_model.fit(X_train, y_train)\n",
        "\n",
        "# Dự đoán và tính ma trận nhầm lẫn\n",
        "y_pred = rf_model.predict(X_test)\n",
        "cm = confusion_matrix(y_test, y_pred)\n",
        "\n",
        "cm_percent = cm.astype('float') / cm.sum(axis=1)[:, np.newaxis] * 100\n",
        "\n",
        "disp = ConfusionMatrixDisplay(confusion_matrix=cm_percent, display_labels=['Baby No Cry', 'Baby Cry'])\n",
        "disp.plot(cmap='Blues', values_format=\".2f\")  \n",
        "plt.title(\"Confusion Matrix - Random Forest on Test Set\")\n",
        "plt.show()"
      ]
    },
    {
      "cell_type": "markdown",
      "metadata": {
        "id": "xCbird34v9ee"
      },
      "source": [
        "### Lưu mô hình"
      ]
    },
    {
      "cell_type": "code",
      "execution_count": 129,
      "metadata": {
        "colab": {
          "base_uri": "https://localhost:8080/"
        },
        "id": "9Q-5Q5L3vkgX",
        "outputId": "3106f000-0e7b-4c8d-e36c-a067ed0dfbe3"
      },
      "outputs": [
        {
          "name": "stdout",
          "output_type": "stream",
          "text": [
            "Mô hình đã được lưu thành công tại decision_model_detection.pkl\n"
          ]
        }
      ],
      "source": [
        "import joblib\n",
        "\n",
        "model_filename = 'decision_model_detection.pkl'\n",
        "\n",
        "# Lưu mô hình\n",
        "joblib.dump(decisiontree_model, model_filename)\n",
        "\n",
        "print(f\"Mô hình đã được lưu thành công tại {model_filename}\")"
      ]
    },
    {
      "cell_type": "markdown",
      "metadata": {
        "id": "J2S81pOGv-2t"
      },
      "source": [
        "### Tải mô hình"
      ]
    },
    {
      "cell_type": "code",
      "execution_count": 130,
      "metadata": {
        "colab": {
          "base_uri": "https://localhost:8080/"
        },
        "id": "CRxjU8Xpv8NX",
        "outputId": "ba7460b3-efb1-4062-96c8-d8c7d82daa7e"
      },
      "outputs": [],
      "source": [
        "# import joblib\n",
        "# model_filename = 'randomforest_model.pkl'\n",
        "# # Tải mô hình đã lưu\n",
        "# loaded_model = joblib.load(model_filename)\n",
        "\n",
        "# # Sử dụng mô hình để dự đoán\n",
        "# y_pred = loaded_model.predict(X_test)\n",
        "\n",
        "# print(\"Mô hình đã được tải và sẵn sàng sử dụng.\")"
      ]
    },
    {
      "cell_type": "code",
      "execution_count": 131,
      "metadata": {},
      "outputs": [
        {
          "name": "stdout",
          "output_type": "stream",
          "text": [
            "1-36402-A-23.wav: Predicted Label = 0\n",
            "1-36929-A-47.wav: Predicted Label = 0\n",
            "1-37226-A-29.wav: Predicted Label = 0\n",
            "1-38559-A-14.wav: Predicted Label = 0\n",
            "1-38560-A-14.wav: Predicted Label = 0\n",
            "1-39835-A-9.wav: Predicted Label = 0\n",
            "1-39835-B-9.wav: Predicted Label = 0\n",
            "1-39901-A-11.wav: Predicted Label = 0\n",
            "1-39901-B-11.wav: Predicted Label = 0\n",
            "1-39923-A-1.wav: Predicted Label = 0\n",
            "1-39937-A-28.wav: Predicted Label = 0\n",
            "442655__josephvm__baby-girl-crying.wav: Predicted Label = 0\n",
            "4be720ce-a5e5-4a48-930f-a212f8a239f6-1434774947458-1.7-f-48-hu.wav: Predicted Label = 1\n",
            "4cefc13c-e7c0-4b5a-bddb-c40c103e640a-1431583459308-1.7-f-26-hu.wav: Predicted Label = 1\n",
            "4cefc13c-e7c0-4b5a-bddb-c40c103e640a-1431583470764-1.7-f-26-hu.wav: Predicted Label = 1\n",
            "4f09a209-71bc-4f57-88d5-a599392ad9d9-1430724137656-1.7-m-04-hu.wav: Predicted Label = 1\n",
            "5afc6a14-a9d8-45f8-b31d-c79dd87cc8c6-1430757081034-1.7-m-48-hu.wav: Predicted Label = 1\n",
            "5b49f19f-a3a7-411e-bb32-755da3cbd6f0-1430029971483-1.7-m-48-hu.wav: Predicted Label = 1\n",
            "5b49f19f-a3a7-411e-bb32-755da3cbd6f0-1430029991480-1.7-m-48-hu.wav: Predicted Label = 1\n",
            "5b9b90a2-2477-41a2-b7b4-d982ec73c788-1430742378904-1.7-m-04-hu.wav: Predicted Label = 1\n",
            "5d579897-17b7-4c2a-8b90-fe1595e05037-1430985956617-1.7-m-04-hu.wav: Predicted Label = 1\n",
            "668793__mbpl__crying-baby-2.wav: Predicted Label = 1\n",
            "adult_voice_1.wav: Predicted Label = 0\n",
            "adult_voice_10.wav: Predicted Label = 0\n",
            "adult_voice_11.wav: Predicted Label = 0\n",
            "adult_voice_12.wav: Predicted Label = 0\n",
            "adult_voice_13.wav: Predicted Label = 0\n",
            "adult_voice_14.wav: Predicted Label = 0\n",
            "adult_voice_15.wav: Predicted Label = 0\n",
            "adult_voice_2.wav: Predicted Label = 0\n",
            "adult_voice_3.wav: Predicted Label = 0\n",
            "adult_voice_4.wav: Predicted Label = 0\n",
            "adult_voice_5.wav: Predicted Label = 0\n",
            "adult_voice_6.wav: Predicted Label = 0\n",
            "adult_voice_7.wav: Predicted Label = 0\n",
            "adult_voice_8.wav: Predicted Label = 0\n",
            "adult_voice_9.wav: Predicted Label = 0\n",
            "baby_cry_1.wav: Predicted Label = 1\n",
            "baby_cry_10.wav: Predicted Label = 1\n",
            "baby_cry_11.wav: Predicted Label = 1\n",
            "baby_cry_12.wav: Predicted Label = 1\n",
            "baby_cry_13.wav: Predicted Label = 1\n",
            "baby_cry_14.wav: Predicted Label = 1\n",
            "baby_cry_15.wav: Predicted Label = 1\n",
            "baby_cry_16.wav: Predicted Label = 1\n",
            "baby_cry_17.wav: Predicted Label = 1\n",
            "baby_cry_18.wav: Predicted Label = 1\n",
            "baby_cry_19.wav: Predicted Label = 1\n",
            "baby_cry_2.wav: Predicted Label = 1\n",
            "baby_cry_20.wav: Predicted Label = 1\n",
            "baby_cry_21.wav: Predicted Label = 1\n",
            "baby_cry_22.wav: Predicted Label = 1\n",
            "baby_cry_23.wav: Predicted Label = 1\n",
            "baby_cry_24.wav: Predicted Label = 1\n",
            "baby_cry_25.wav: Predicted Label = 1\n",
            "baby_cry_3.wav: Predicted Label = 1\n",
            "baby_cry_4.wav: Predicted Label = 1\n",
            "baby_cry_5.wav: Predicted Label = 1\n",
            "baby_cry_6.wav: Predicted Label = 1\n",
            "baby_cry_7.wav: Predicted Label = 1\n",
            "baby_cry_8.wav: Predicted Label = 1\n",
            "baby_cry_9.wav: Predicted Label = 1\n",
            "cry.wav: Predicted Label = 0\n",
            "pbl6_01_20241114140204.wav: Predicted Label = 0\n"
          ]
        }
      ],
      "source": [
        "import joblib\n",
        "# Hàm dự đoán cho nhiều tệp\n",
        "def predict_multiple_wav_files(model, directory):\n",
        "    predictions = {}\n",
        "    for filename in os.listdir(directory):\n",
        "        if filename.endswith('.wav'):\n",
        "            filepath = os.path.join(directory, filename)\n",
        "            y, sr = librosa.load(filepath, sr=16000)\n",
        "            y = normalize_audio_length(y, sr)\n",
        "            features = extract_features(y, sr).reshape(1, -1)\n",
        "\n",
        "            prediction = model.predict(features)\n",
        "            predictions[filename] = prediction[0]\n",
        "    \n",
        "    return predictions\n",
        "\n",
        "# Tải mô hình chỉ một lần\n",
        "model = joblib.load('decision_model_detection.pkl')\n",
        "\n",
        "# Thực hiện dự đoán cho tất cả các tệp trong thư mục\n",
        "wav_directory = 'testing_function1'  # Thay đường dẫn thư mục chứa tệp .wav\n",
        "predictions = predict_multiple_wav_files(model, wav_directory)\n",
        "\n",
        "# In kết quả dự đoán\n",
        "for filename, label in predictions.items():\n",
        "    print(f\"{filename}: Predicted Label = {label}\")"
      ]
    }
  ],
  "metadata": {
    "colab": {
      "provenance": []
    },
    "kernelspec": {
      "display_name": "Python 3",
      "name": "python3"
    },
    "language_info": {
      "codemirror_mode": {
        "name": "ipython",
        "version": 3
      },
      "file_extension": ".py",
      "mimetype": "text/x-python",
      "name": "python",
      "nbconvert_exporter": "python",
      "pygments_lexer": "ipython3",
      "version": "3.10.11"
    }
  },
  "nbformat": 4,
  "nbformat_minor": 0
}
