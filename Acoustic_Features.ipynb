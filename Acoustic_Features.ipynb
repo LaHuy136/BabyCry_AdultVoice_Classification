{
  "cells": [
    {
      "cell_type": "markdown",
      "metadata": {
        "id": "gVlsnbhpZR1w"
      },
      "source": [
        "## Cài đặt thư viện"
      ]
    },
    {
      "cell_type": "code",
      "execution_count": 53,
      "metadata": {
        "id": "-DpW1NwZjXB8"
      },
      "outputs": [],
      "source": [
        "import os\n",
        "import librosa\n",
        "import numpy as np\n",
        "import pandas as pd\n",
        "import matplotlib.pyplot as plt\n",
        "from sklearn.model_selection import train_test_split, cross_val_score\n",
        "from sklearn.metrics import accuracy_score, f1_score, confusion_matrix, ConfusionMatrixDisplay\n",
        "from sklearn.ensemble import RandomForestClassifier\n",
        "from sklearn.neighbors import KNeighborsClassifier\n",
        "from sklearn.tree import DecisionTreeClassifier"
      ]
    },
    {
      "cell_type": "markdown",
      "metadata": {},
      "source": [
        "### Hiển thị tập dữ liệu"
      ]
    },
    {
      "cell_type": "code",
      "execution_count": 91,
      "metadata": {},
      "outputs": [
        {
          "name": "stdout",
          "output_type": "stream",
          "text": [
            "           Lớp  Số Lượng  Tỷ Lệ\n",
            "0  adult voice       100    0.5\n",
            "1     baby cry       100    0.5\n",
            "2        tổng       200    1.0\n"
          ]
        },
        {
          "data": {
            "image/png": "[encoded data removed]",
            "text/plain": [
              "<Figure size 1000x600 with 1 Axes>"
            ]
          },
          "metadata": {},
          "output_type": "display_data"
        }
      ],
      "source": [
        "dataset_dir = 'data_bbcry_or_not'\n",
        "# Đếm số lượng file trong mỗi thư mục (ứng với mỗi class)\n",
        "class_counts = {}\n",
        "for class_folder in os.listdir(dataset_dir):\n",
        "    class_path = os.path.join(dataset_dir, class_folder)\n",
        "    if os.path.isdir(class_path):\n",
        "        num_files = len(os.listdir(class_path))\n",
        "        class_counts[class_folder] = num_files\n",
        "\n",
        "# Tạo DataFrame từ dữ liệu đã lấy\n",
        "data = {\n",
        "    'Lớp': list(class_counts.keys()),\n",
        "    'Số Lượng': list(class_counts.values()),\n",
        "}\n",
        "\n",
        "total_count = sum(class_counts.values())\n",
        "data['Tỷ Lệ'] = [count / total_count for count in data['Số Lượng']]\n",
        "data['Tỷ Lệ'].append(1.0)  # Tỷ lệ cho tổng\n",
        "\n",
        "data['Lớp'].append('tổng')\n",
        "data['Số Lượng'].append(total_count)\n",
        "\n",
        "df = pd.DataFrame(data)\n",
        "print(df)\n",
        "\n",
        "# Vẽ biểu đồ cột\n",
        "labels = df['Lớp'][:-1] \n",
        "counts = df['Số Lượng'][:-1]  \n",
        "colors = ['green', 'blue'] + ['orange'] * (len(labels) - 2)  \n",
        "\n",
        "plt.figure(figsize=(10, 6))\n",
        "plt.bar(labels, counts, color=colors)\n",
        "plt.ylabel('Số lượng')\n",
        "plt.title('Số lượng mẫu ban đầu')\n",
        "plt.show()"
      ]
    },
    {
      "cell_type": "markdown",
      "metadata": {
        "id": "vxrJ1kOrZe6o"
      },
      "source": [
        "### 1. Tiền xử lý dữ liệu"
      ]
    },
    {
      "cell_type": "code",
      "execution_count": 55,
      "metadata": {
        "id": "-VKuLLbcoabi"
      },
      "outputs": [],
      "source": [
        "baby_cry_path = 'data_bbcry_or_not/baby cry'\n",
        "adult_voice_path = 'data_bbcry_or_not/adult voice'\n",
        "\n",
        "# Hàm chuẩn hóa độ dài tín hiệu âm thanh về 7 giây\n",
        "def normalize_audio_length(y, sr, target_duration=7):\n",
        "    target_length = int(sr * target_duration)\n",
        "    \n",
        "    if len(y) > target_length:\n",
        "        # Nếu tín hiệu dài hơn 7s, cắt bớt\n",
        "        y = y[:target_length]\n",
        "    elif len(y) < target_length:\n",
        "        # Nếu tín hiệu ngắn hơn 7s, thêm padding\n",
        "        padding = target_length - len(y)\n",
        "        y = np.pad(y, (0, padding), mode='constant')\n",
        "    \n",
        "    return y"
      ]
    },
    {
      "cell_type": "markdown",
      "metadata": {},
      "source": [
        "### 2. Trích xuất đặc trưng"
      ]
    },
    {
      "cell_type": "code",
      "execution_count": 80,
      "metadata": {},
      "outputs": [],
      "source": [
        "def extract_acoustic_features(y, sr):\n",
        "    win_length = int (0.03 * sr)\n",
        "    hop_length = win_length//2\n",
        "    n_fft = 2048\n",
        "    # Trích xuất Mel Scale\n",
        "    mel_spectrogram = librosa.feature.melspectrogram(y=y, sr=sr, n_fft=n_fft, hop_length=hop_length, win_length=win_length, n_mels=15)\n",
        "    mel_scale = np.mean(mel_spectrogram, axis=1)  # Tính trung bình theo chiều dọc\n",
        "\n",
        "    # Trích xuất MFCC\n",
        "    mfccs = librosa.feature.mfcc(y=y, sr=sr, n_mfcc=13)\n",
        "    mfcc_features = np.mean(mfccs, axis=1)  # Tính trung bình theo chiều dọc\n",
        "\n",
        "    # Trích xuất Constant-Q Chromagram với điều chỉnh tham số\n",
        "    fmin = librosa.note_to_hz('C2')  # Tần số tối thiểu khoảng 65Hz\n",
        "    n_bins = 36  # Giảm số lượng tần số bin\n",
        "    cqt = librosa.cqt(y, sr=sr, hop_length=hop_length, fmin=fmin, n_bins=n_bins)\n",
        "    chroma = librosa.feature.chroma_cqt(hop_length=hop_length, C=np.abs(cqt), sr=sr)\n",
        "    cqc_features = np.mean(chroma, axis=1)  # Tính trung bình theo chiều dọc\n",
        "\n",
        "    # Kết hợp các đặc trưng\n",
        "    features = np.hstack([mel_scale, mfcc_features, cqc_features])\n",
        "    \n",
        "    return features"
      ]
    },
    {
      "cell_type": "markdown",
      "metadata": {},
      "source": [
        "### Đọc dữ liệu và gán nhãn"
      ]
    },
    {
      "cell_type": "code",
      "execution_count": 81,
      "metadata": {},
      "outputs": [],
      "source": [
        "def load_data(directory, label):\n",
        "    features = []\n",
        "    labels = []\n",
        "    for filename in os.listdir(directory):\n",
        "        if filename.endswith('.wav'):\n",
        "            filepath = os.path.join(directory, filename)\n",
        "            y, sr = librosa.load(filepath, sr=16000)\n",
        "            \n",
        "            # Chuẩn hóa độ dài tín hiệu\n",
        "            y = normalize_audio_length(y, sr)\n",
        "            \n",
        "            # Trích xuất đặc trưng và gán nhãn\n",
        "            features.append(extract_acoustic_features(y, sr))\n",
        "            labels.append(label)\n",
        "    \n",
        "    return features, labels"
      ]
    },
    {
      "cell_type": "code",
      "execution_count": 82,
      "metadata": {},
      "outputs": [],
      "source": [
        "# # Đường dẫn dữ liệu\n",
        "baby_cry_path = 'data_bbcry_or_not/baby cry'\n",
        "adult_voice_path = 'data_bbcry_or_not/adult voice'\n",
        "\n",
        "# # Tạo tập dữ liệu\n",
        "adult_features, adult_labels = load_data(adult_voice_path, label=0)\n",
        "baby_features, baby_labels = load_data(baby_cry_path, label=1)\n",
        "\n",
        "# # Kết hợp dữ liệu\n",
        "X = np.array(baby_features + adult_features)\n",
        "y = np.array(baby_labels + adult_labels)"
      ]
    },
    {
      "cell_type": "code",
      "execution_count": 83,
      "metadata": {},
      "outputs": [
        {
          "name": "stdout",
          "output_type": "stream",
          "text": [
            "Shape of features array: (200, 40)\n",
            "Shape of labels array: (200,)\n"
          ]
        }
      ],
      "source": [
        "# Kiểm tra kích thước của các mảng đặc trưng và nhãn\n",
        "print(\"Shape of features array:\", X.shape)\n",
        "print(\"Shape of labels array:\", y.shape)"
      ]
    },
    {
      "cell_type": "markdown",
      "metadata": {},
      "source": [
        "### Tạo tập dữ liệu huấn luyện"
      ]
    },
    {
      "cell_type": "code",
      "execution_count": 92,
      "metadata": {},
      "outputs": [],
      "source": [
        "X_train, X_test, y_train, y_test = train_test_split(X, y, test_size=0.3, random_state=42, stratify=y)"
      ]
    },
    {
      "cell_type": "code",
      "execution_count": 93,
      "metadata": {},
      "outputs": [
        {
          "name": "stdout",
          "output_type": "stream",
          "text": [
            "(140, 40)\n",
            "(140,)\n",
            "(60, 40)\n",
            "(60,)\n"
          ]
        }
      ],
      "source": [
        "print(X_train.shape)\n",
        "print(y_train.shape)\n",
        "print(X_test.shape)\n",
        "print(y_test.shape)"
      ]
    },
    {
      "cell_type": "markdown",
      "metadata": {},
      "source": [
        "### 3. Huấn luyện mô hình"
      ]
    },
    {
      "cell_type": "code",
      "execution_count": 86,
      "metadata": {},
      "outputs": [
        {
          "name": "stdout",
          "output_type": "stream",
          "text": [
            "Model: Random Forest, Accuracy: 1.000000, F1 score: 1.000000\n",
            "Model: K-Nearest Neighbors, Accuracy: 0.900000, F1 score: 0.899778\n",
            "Model: Decision Tree, Accuracy: 0.966667, F1 score: 0.966667\n",
            "             Algorithm  Accuracy Score  F1 Score\n",
            "0        Random Forest        1.000000  1.000000\n",
            "1  K-Nearest Neighbors        0.900000  0.899778\n",
            "2        Decision Tree        0.966667  0.966667\n"
          ]
        },
        {
          "data": {
            "image/png": "[encoded data removed]",
            "text/plain": [
              "<Figure size 1000x500 with 1 Axes>"
            ]
          },
          "metadata": {},
          "output_type": "display_data"
        }
      ],
      "source": [
        "# Khởi tạo và huấn luyện các mô hình\n",
        "models = {\n",
        "    \"Random Forest\": RandomForestClassifier(n_estimators=100, random_state=42),\n",
        "    \"K-Nearest Neighbors\": KNeighborsClassifier(n_neighbors=5),\n",
        "    \"Decision Tree\": DecisionTreeClassifier(random_state=42)\n",
        "}\n",
        "results = []\n",
        "# Huấn luyện và đánh giá các mô hình\n",
        "for model_name, model in models.items():\n",
        "    # Perform cross-validation\n",
        "    scores = cross_val_score(model, X, y, cv=5, scoring='f1_weighted')\n",
        "    # Train the model on the training data\n",
        "    model.fit(X_train, y_train)\n",
        "    y_pred = model.predict(X_test)  \n",
        "    # Calculate accuracy\n",
        "    accuracy = accuracy_score(y_test, y_pred)\n",
        "    # Calculate F1 score (weighted)\n",
        "    f1 = f1_score(y_test, y_pred, average='weighted')\n",
        "    print(f\"Model: {model_name}, Accuracy: {accuracy:.6f}, F1 score: {f1:.6f}\")\n",
        "    results.append({'Algorithm': model_name, 'Accuracy Score': accuracy, 'F1 Score': f1})\n",
        "\n",
        "# Chuyển kết quả sang DataFrame\n",
        "results_df = pd.DataFrame(results)\n",
        "\n",
        "# Hiển thị bảng kết quả\n",
        "print(results_df)\n",
        "\n",
        "# Vẽ biểu đồ độ chính xác\n",
        "plt.figure(figsize=(10, 5))\n",
        "plt.bar(results_df['Algorithm'], results_df['F1 Score'], color='skyblue')\n",
        "plt.title('Model Performance Comparison')\n",
        "plt.ylabel('F1 score')\n",
        "plt.show()"
      ]
    },
    {
      "cell_type": "code",
      "execution_count": 87,
      "metadata": {},
      "outputs": [
        {
          "data": {
            "image/png": "[encoded data removed]",
            "text/plain": [
              "<Figure size 640x480 with 2 Axes>"
            ]
          },
          "metadata": {},
          "output_type": "display_data"
        }
      ],
      "source": [
        "# Huấn luyện mô hình Random Forest\n",
        "decisiontree_model = DecisionTreeClassifier(random_state=42)\n",
        "decisiontree_model.fit(X_train, y_train)\n",
        "\n",
        "# Dự đoán và tính ma trận nhầm lẫn\n",
        "y_pred = decisiontree_model.predict(X_test)\n",
        "cm = confusion_matrix(y_test, y_pred)\n",
        "\n",
        "cm_percent = cm.astype('float') / cm.sum(axis=1)[:, np.newaxis] * 100\n",
        "\n",
        "disp = ConfusionMatrixDisplay(confusion_matrix=cm_percent, display_labels=['Adult Voice', 'Baby Cry'])\n",
        "disp.plot(cmap='Blues', values_format=\".2f\")  \n",
        "plt.title(\"Confusion Matrix - Decision Tree on Test Set\")\n",
        "plt.show()"
      ]
    },
    {
      "cell_type": "code",
      "execution_count": 89,
      "metadata": {},
      "outputs": [
        {
          "name": "stdout",
          "output_type": "stream",
          "text": [
            "File: adult_voice_1.wav, Predicted Label: Adult Voice\n",
            "File: adult_voice_10.wav, Predicted Label: Adult Voice\n",
            "File: adult_voice_11.wav, Predicted Label: Adult Voice\n",
            "File: adult_voice_12.wav, Predicted Label: Adult Voice\n",
            "File: adult_voice_13.wav, Predicted Label: Adult Voice\n",
            "File: adult_voice_14.wav, Predicted Label: Adult Voice\n",
            "File: adult_voice_15.wav, Predicted Label: Adult Voice\n",
            "File: adult_voice_16.wav, Predicted Label: Adult Voice\n",
            "File: adult_voice_2.wav, Predicted Label: Adult Voice\n",
            "File: adult_voice_3.wav, Predicted Label: Adult Voice\n",
            "File: adult_voice_4.wav, Predicted Label: Adult Voice\n",
            "File: adult_voice_5.wav, Predicted Label: Adult Voice\n",
            "File: adult_voice_6.wav, Predicted Label: Adult Voice\n",
            "File: adult_voice_7.wav, Predicted Label: Adult Voice\n",
            "File: adult_voice_8.wav, Predicted Label: Adult Voice\n",
            "File: adult_voice_9.wav, Predicted Label: Adult Voice\n",
            "File: baby_cry_1.wav, Predicted Label: Baby Cry\n",
            "File: baby_cry_10.wav, Predicted Label: Baby Cry\n",
            "File: baby_cry_11.wav, Predicted Label: Baby Cry\n",
            "File: baby_cry_12.wav, Predicted Label: Baby Cry\n",
            "File: baby_cry_13.wav, Predicted Label: Baby Cry\n",
            "File: baby_cry_14.wav, Predicted Label: Baby Cry\n",
            "File: baby_cry_15.wav, Predicted Label: Baby Cry\n",
            "File: baby_cry_16.wav, Predicted Label: Baby Cry\n",
            "File: baby_cry_17.wav, Predicted Label: Baby Cry\n",
            "File: baby_cry_2.wav, Predicted Label: Baby Cry\n",
            "File: baby_cry_3.wav, Predicted Label: Baby Cry\n",
            "File: baby_cry_4.wav, Predicted Label: Baby Cry\n",
            "File: baby_cry_5.wav, Predicted Label: Baby Cry\n",
            "File: baby_cry_6.wav, Predicted Label: Baby Cry\n",
            "File: baby_cry_7.wav, Predicted Label: Baby Cry\n",
            "File: baby_cry_8.wav, Predicted Label: Baby Cry\n",
            "File: baby_cry_9.wav, Predicted Label: Baby Cry\n"
          ]
        }
      ],
      "source": [
        "testing_dir = 'testing'\n",
        "\n",
        "def test_model(directory, model):\n",
        "    test_features = []\n",
        "    test_files = []\n",
        "    for filename in os.listdir(directory):\n",
        "        if filename.endswith('.wav'):\n",
        "            filepath = os.path.join(directory, filename)\n",
        "            y, sr = librosa.load(filepath, sr=16000)\n",
        "            y = normalize_audio_length(y, sr)\n",
        "            features = extract_acoustic_features(y, sr)\n",
        "            test_features.append(features)\n",
        "            test_files.append(filename)\n",
        "    \n",
        "    test_features = np.array(test_features)\n",
        "    predictions = model.predict(test_features)\n",
        "    \n",
        "    # Hiển thị kết quả dự đoán\n",
        "    for file, pred in zip(test_files, predictions):\n",
        "        label = \"Baby Cry\" if pred == 1 else \"Adult Voice\"\n",
        "        print(f\"File: {file}, Predicted Label: {label}\")\n",
        "\n",
        "# Kiểm thử mô hình\n",
        "test_model(testing_dir, decisiontree_model)"
      ]
    },
    {
      "cell_type": "markdown",
      "metadata": {},
      "source": [
        "### Ma trận nhầm lẫn"
      ]
    },
    {
      "cell_type": "code",
      "execution_count": 63,
      "metadata": {},
      "outputs": [
        {
          "data": {
            "image/png": "[encoded data removed]",
            "text/plain": [
              "<Figure size 640x480 with 2 Axes>"
            ]
          },
          "metadata": {},
          "output_type": "display_data"
        }
      ],
      "source": [
        "# Huấn luyện mô hình Random Forest\n",
        "rf_model = RandomForestClassifier(n_estimators=100, random_state=42)\n",
        "rf_model.fit(X_train, y_train)\n",
        "\n",
        "# Dự đoán và tính ma trận nhầm lẫn\n",
        "y_pred = rf_model.predict(X_test)\n",
        "cm = confusion_matrix(y_test, y_pred)\n",
        "\n",
        "cm_percent = cm.astype('float') / cm.sum(axis=1)[:, np.newaxis] * 100\n",
        "\n",
        "disp = ConfusionMatrixDisplay(confusion_matrix=cm_percent, display_labels=['Adult Voice', 'Baby Cry'])\n",
        "disp.plot(cmap='Blues', values_format=\".2f\")  \n",
        "plt.title(\"Confusion Matrix - Random Forest on Test Set\")\n",
        "plt.show()"
      ]
    },
    {
      "cell_type": "code",
      "execution_count": 90,
      "metadata": {},
      "outputs": [
        {
          "name": "stdout",
          "output_type": "stream",
          "text": [
            "File: adult_voice_1.wav, Predicted Label: Adult Voice\n",
            "File: adult_voice_10.wav, Predicted Label: Adult Voice\n",
            "File: adult_voice_11.wav, Predicted Label: Adult Voice\n",
            "File: adult_voice_12.wav, Predicted Label: Adult Voice\n",
            "File: adult_voice_13.wav, Predicted Label: Adult Voice\n",
            "File: adult_voice_14.wav, Predicted Label: Adult Voice\n",
            "File: adult_voice_15.wav, Predicted Label: Adult Voice\n",
            "File: adult_voice_16.wav, Predicted Label: Adult Voice\n",
            "File: adult_voice_2.wav, Predicted Label: Adult Voice\n",
            "File: adult_voice_3.wav, Predicted Label: Adult Voice\n",
            "File: adult_voice_4.wav, Predicted Label: Adult Voice\n",
            "File: adult_voice_5.wav, Predicted Label: Adult Voice\n",
            "File: adult_voice_6.wav, Predicted Label: Adult Voice\n",
            "File: adult_voice_7.wav, Predicted Label: Adult Voice\n",
            "File: adult_voice_8.wav, Predicted Label: Adult Voice\n",
            "File: adult_voice_9.wav, Predicted Label: Adult Voice\n",
            "File: baby_cry_1.wav, Predicted Label: Baby Cry\n",
            "File: baby_cry_10.wav, Predicted Label: Baby Cry\n",
            "File: baby_cry_11.wav, Predicted Label: Baby Cry\n",
            "File: baby_cry_12.wav, Predicted Label: Baby Cry\n",
            "File: baby_cry_13.wav, Predicted Label: Baby Cry\n",
            "File: baby_cry_14.wav, Predicted Label: Baby Cry\n",
            "File: baby_cry_15.wav, Predicted Label: Baby Cry\n",
            "File: baby_cry_16.wav, Predicted Label: Baby Cry\n",
            "File: baby_cry_17.wav, Predicted Label: Baby Cry\n",
            "File: baby_cry_2.wav, Predicted Label: Baby Cry\n",
            "File: baby_cry_3.wav, Predicted Label: Baby Cry\n",
            "File: baby_cry_4.wav, Predicted Label: Baby Cry\n",
            "File: baby_cry_5.wav, Predicted Label: Baby Cry\n",
            "File: baby_cry_6.wav, Predicted Label: Baby Cry\n",
            "File: baby_cry_7.wav, Predicted Label: Baby Cry\n",
            "File: baby_cry_8.wav, Predicted Label: Baby Cry\n",
            "File: baby_cry_9.wav, Predicted Label: Baby Cry\n"
          ]
        }
      ],
      "source": [
        "testing_dir = 'testing'\n",
        "\n",
        "def test_model(directory, model):\n",
        "    test_features = []\n",
        "    test_files = []\n",
        "    for filename in os.listdir(directory):\n",
        "        if filename.endswith('.wav'):\n",
        "            filepath = os.path.join(directory, filename)\n",
        "            y, sr = librosa.load(filepath, sr=16000)\n",
        "            y = normalize_audio_length(y, sr)\n",
        "            features = extract_acoustic_features(y, sr)\n",
        "            test_features.append(features)\n",
        "            test_files.append(filename)\n",
        "    \n",
        "    test_features = np.array(test_features)\n",
        "    predictions = model.predict(test_features)\n",
        "    \n",
        "    # Hiển thị kết quả dự đoán\n",
        "    for file, pred in zip(test_files, predictions):\n",
        "        label = \"Baby Cry\" if pred == 1 else \"Adult Voice\"\n",
        "        print(f\"File: {file}, Predicted Label: {label}\")\n",
        "\n",
        "# Kiểm thử mô hình\n",
        "test_model(testing_dir, rf_model)"
      ]
    },
    {
      "cell_type": "markdown",
      "metadata": {
        "id": "-PPiIKdhaCzu"
      },
      "source": [
        "### Tối ưu hóa tham số mô hình Random Forest (RF)"
      ]
    },
    {
      "cell_type": "code",
      "execution_count": 72,
      "metadata": {
        "colab": {
          "base_uri": "https://localhost:8080/"
        },
        "id": "ldX-ZPFLJj-m",
        "outputId": "742e2ae4-160c-4f99-ac16-077aedf760ce"
      },
      "outputs": [],
      "source": [
        "# from sklearn.model_selection import RandomizedSearchCV\n",
        "\n",
        "# param_grid = {'n_estimators': [50, 100, 200, 300, 400],\n",
        "#               'max_depth': [None, 10, 20, 30, 40, 50],\n",
        "#               'max_features': ['sqrt', 'log2'],\n",
        "#               'min_samples_split': [2, 5, 10],\n",
        "#               'min_samples_leaf': [1, 2, 4],\n",
        "#               'bootstrap': [True, False],\n",
        "#               'criterion': ['gini', 'entropy']\n",
        "#              }\n",
        "# grid_search = RandomizedSearchCV (RandomForestClassifier(), param_grid, n_iter=100, cv=5, scoring='f1_weighted')\n",
        "# grid_search.fit(X_train, y_train)\n",
        "# print(\"Best parameters: \", grid_search.best_params_)"
      ]
    },
    {
      "cell_type": "code",
      "execution_count": 73,
      "metadata": {
        "colab": {
          "base_uri": "https://localhost:8080/"
        },
        "id": "G-Na4VYL00T_",
        "outputId": "3ea8476d-4473-4b8e-8dcb-39d6050e5545"
      },
      "outputs": [],
      "source": [
        "# from sklearn.ensemble import RandomForestClassifier\n",
        "\n",
        "# # Khởi tạo mô hình với các siêu tham số tốt nhất\n",
        "# best_params = {'n_estimators': 300,\n",
        "#                'min_samples_split': 5,\n",
        "#                'min_samples_leaf': 1,\n",
        "#                'max_features': 'log2',\n",
        "#                'max_depth': 50,\n",
        "#                'criterion': 'gini',\n",
        "#                'bootstrap': False}\n",
        "\n",
        "# model = RandomForestClassifier(**best_params)\n",
        "\n",
        "# # Huấn luyện mô hình\n",
        "# model.fit(X_train, y_train)\n",
        "\n",
        "# # Dự đoán trên tập kiểm tra\n",
        "# y_pred = model.predict(X_test)\n",
        "\n",
        "# # Đánh giá mô hình\n",
        "# accuracy = accuracy_score(y_test, y_pred)\n",
        "# f1 = f1_score(y_test, y_pred, average='weighted')\n",
        "\n",
        "# print(f\"Accuracy: {accuracy} F1 Score: {f1}\")"
      ]
    },
    {
      "cell_type": "markdown",
      "metadata": {
        "id": "xCbird34v9ee"
      },
      "source": [
        "### Lưu mô hình"
      ]
    },
    {
      "cell_type": "code",
      "execution_count": 74,
      "metadata": {
        "colab": {
          "base_uri": "https://localhost:8080/"
        },
        "id": "9Q-5Q5L3vkgX",
        "outputId": "3106f000-0e7b-4c8d-e36c-a067ed0dfbe3"
      },
      "outputs": [],
      "source": [
        "# import joblib\n",
        "\n",
        "# model_filename = 'randomforest_model.pkl'\n",
        "\n",
        "# # Lưu mô hình\n",
        "# joblib.dump(model, model_filename)\n",
        "\n",
        "# print(f\"Mô hình đã được lưu thành công tại {model_filename}\")"
      ]
    },
    {
      "cell_type": "markdown",
      "metadata": {
        "id": "J2S81pOGv-2t"
      },
      "source": [
        "### Tải mô hình"
      ]
    },
    {
      "cell_type": "code",
      "execution_count": 75,
      "metadata": {
        "colab": {
          "base_uri": "https://localhost:8080/"
        },
        "id": "CRxjU8Xpv8NX",
        "outputId": "ba7460b3-efb1-4062-96c8-d8c7d82daa7e"
      },
      "outputs": [],
      "source": [
        "# # Tải mô hình đã lưu\n",
        "# loaded_model = joblib.load(model_filename)\n",
        "\n",
        "# # Sử dụng mô hình để dự đoán\n",
        "# y_pred = loaded_model.predict(X_test)\n",
        "\n",
        "# print(\"Mô hình đã được tải và sẵn sàng sử dụng.\")"
      ]
    }
  ],
  "metadata": {
    "colab": {
      "provenance": []
    },
    "kernelspec": {
      "display_name": "Python 3",
      "name": "python3"
    },
    "language_info": {
      "codemirror_mode": {
        "name": "ipython",
        "version": 3
      },
      "file_extension": ".py",
      "mimetype": "text/x-python",
      "name": "python",
      "nbconvert_exporter": "python",
      "pygments_lexer": "ipython3",
      "version": "3.10.11"
    }
  },
  "nbformat": 4,
  "nbformat_minor": 0
}
