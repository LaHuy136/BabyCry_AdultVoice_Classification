{
  "cells": [
    {
      "cell_type": "markdown",
      "metadata": {
        "id": "gVlsnbhpZR1w"
      },
      "source": [
        "## Cài đặt thư viện"
      ]
    },
    {
      "cell_type": "code",
      "execution_count": 4,
      "metadata": {
        "id": "-DpW1NwZjXB8"
      },
      "outputs": [],
      "source": [
        "import os\n",
        "import librosa\n",
        "import numpy as np\n",
        "import pandas as pd\n",
        "import matplotlib.pyplot as plt\n",
        "from sklearn.model_selection import train_test_split, cross_val_score\n",
        "from sklearn.metrics import classification_report, accuracy_score, f1_score, confusion_matrix, ConfusionMatrixDisplay\n",
        "from sklearn.ensemble import RandomForestClassifier\n",
        "from sklearn.neighbors import KNeighborsClassifier\n",
        "from sklearn.tree import DecisionTreeClassifier"
      ]
    },
    {
      "cell_type": "markdown",
      "metadata": {},
      "source": [
        "### Hiển thị tập dữ liệu"
      ]
    },
    {
      "cell_type": "code",
      "execution_count": 5,
      "metadata": {},
      "outputs": [
        {
          "data": {
            "image/png": "[encoded data removed]",
            "text/plain": [
              "<Figure size 1000x600 with 1 Axes>"
            ]
          },
          "metadata": {},
          "output_type": "display_data"
        }
      ],
      "source": [
        "dataset_dir = 'data'\n",
        "# Đếm số lượng file trong mỗi thư mục (ứng với mỗi class)\n",
        "class_counts = {}\n",
        "for class_folder in os.listdir(dataset_dir):\n",
        "    class_path = os.path.join(dataset_dir, class_folder)\n",
        "    if os.path.isdir(class_path):\n",
        "        num_files = len(os.listdir(class_path))\n",
        "        class_counts[class_folder] = num_files\n",
        "\n",
        "# Vẽ biểu đồ cột\n",
        "labels = list(class_counts.keys())\n",
        "counts = list(class_counts.values())\n",
        "colors = ['green', 'blue']\n",
        "plt.figure(figsize=(10, 6))\n",
        "plt.bar(labels, counts, color=colors)\n",
        "\n",
        "plt.ylabel('Số lượng')\n",
        "plt.title('Số lượng mẫu ban đầu')\n",
        "plt.show()"
      ]
    },
    {
      "cell_type": "markdown",
      "metadata": {
        "id": "vxrJ1kOrZe6o"
      },
      "source": [
        "### 1. Tiền xử lý dữ liệu"
      ]
    },
    {
      "cell_type": "code",
      "execution_count": 6,
      "metadata": {
        "id": "-VKuLLbcoabi"
      },
      "outputs": [],
      "source": [
        "baby_cry_path = 'data/baby cry'\n",
        "adult_voice_path = 'data/adult voice'\n",
        "\n",
        "# Hàm chuẩn hóa độ dài tín hiệu âm thanh về 7 giây\n",
        "def normalize_audio_length(y, sr, target_duration=7):\n",
        "    target_length = int(sr * target_duration)\n",
        "    \n",
        "    if len(y) > target_length:\n",
        "        # Nếu tín hiệu dài hơn 7s, cắt bớt\n",
        "        y = y[:target_length]\n",
        "    elif len(y) < target_length:\n",
        "        # Nếu tín hiệu ngắn hơn 7s, thêm padding\n",
        "        padding = target_length - len(y)\n",
        "        y = np.pad(y, (0, padding), mode='constant')\n",
        "    \n",
        "    return y"
      ]
    },
    {
      "cell_type": "markdown",
      "metadata": {
        "id": "tUuQ8HVIZjNo"
      },
      "source": [
        "### 2. Trích xuất đặc trưng"
      ]
    },
    {
      "cell_type": "code",
      "execution_count": 7,
      "metadata": {
        "id": "fLo_ik3Yj-33"
      },
      "outputs": [],
      "source": [
        "# Hàm trích xuất đặc trưng\n",
        "def extract_features(y, sr):\n",
        "    mfccs = librosa.feature.mfcc(y=y, sr=sr, n_mfcc=13)\n",
        "    chroma = librosa.feature.chroma_stft(y=y, sr=sr)\n",
        "    zcr = librosa.feature.zero_crossing_rate(y)\n",
        "    rms = librosa.feature.rms(y=y)\n",
        "    \n",
        "    # Lấy trung bình các đặc trưng để tạo vector đặc trưng cuối cùng\n",
        "    mfccs_mean = np.mean(mfccs, axis=1)\n",
        "    chroma_mean = np.mean(chroma, axis=1)\n",
        "    zcr_mean = np.mean(zcr)\n",
        "    rms_mean = np.mean(rms)\n",
        "    \n",
        "    return np.hstack([mfccs_mean, chroma_mean, zcr_mean, rms_mean])"
      ]
    },
    {
      "cell_type": "markdown",
      "metadata": {},
      "source": [
        "### Đọc dữ liệu và gán nhãn"
      ]
    },
    {
      "cell_type": "code",
      "execution_count": 8,
      "metadata": {
        "id": "S6kKP8_g_pIz"
      },
      "outputs": [],
      "source": [
        "def load_data(directory, label):\n",
        "    features = []\n",
        "    labels = []\n",
        "    for filename in os.listdir(directory):\n",
        "        if filename.endswith('.wav'):\n",
        "            filepath = os.path.join(directory, filename)\n",
        "            y, sr = librosa.load(filepath, sr=None)\n",
        "            \n",
        "            # Chuẩn hóa độ dài tín hiệu\n",
        "            y = normalize_audio_length(y, sr)\n",
        "            \n",
        "            # Trích xuất đặc trưng và gán nhãn\n",
        "            features.append(extract_features(y, sr))\n",
        "            labels.append(label)\n",
        "    \n",
        "    return features, labels"
      ]
    },
    {
      "cell_type": "markdown",
      "metadata": {},
      "source": [
        "### Tạo tập dữ liệu huấn luyện"
      ]
    },
    {
      "cell_type": "code",
      "execution_count": 9,
      "metadata": {},
      "outputs": [],
      "source": [
        "# Đường dẫn dữ liệu\n",
        "baby_cry_dir = 'data/baby cry'\n",
        "adult_voice_dir = 'data/adult voice'\n",
        "\n",
        "# Tạo tập dữ liệu\n",
        "adult_features, adult_labels = load_data(adult_voice_dir, label=0)\n",
        "baby_features, baby_labels = load_data(baby_cry_dir, label=1)\n",
        "\n",
        "# Kết hợp dữ liệu\n",
        "X = np.array(baby_features + adult_features)\n",
        "y = np.array(baby_labels + adult_labels)"
      ]
    },
    {
      "cell_type": "markdown",
      "metadata": {
        "id": "0BQ2g_lyZ1g5"
      },
      "source": [
        "## 3. Huấn luyện mô hình"
      ]
    },
    {
      "cell_type": "code",
      "execution_count": 10,
      "metadata": {
        "colab": {
          "base_uri": "https://localhost:8080/"
        },
        "id": "W0duUCbnZ-Cx",
        "outputId": "271e9829-9b1e-4fc2-fa51-959fd58364ed"
      },
      "outputs": [],
      "source": [
        "# Chia tập huấn luyện và kiểm tra\n",
        "X_train, X_test, y_train, y_test = train_test_split(X, y, test_size=0.2, random_state=42)"
      ]
    },
    {
      "cell_type": "code",
      "execution_count": 11,
      "metadata": {},
      "outputs": [
        {
          "name": "stdout",
          "output_type": "stream",
          "text": [
            "X_train: 160\n",
            "X_test: 40\n",
            "y_train: 160\n",
            "y_test: 40\n"
          ]
        }
      ],
      "source": [
        "print(\"X_train:\", len(X_train))\n",
        "print(\"X_test:\", len(X_test))\n",
        "print(\"y_train:\", len(y_train))\n",
        "print(\"y_test:\", len(y_test))"
      ]
    },
    {
      "cell_type": "code",
      "execution_count": 12,
      "metadata": {
        "colab": {
          "base_uri": "https://localhost:8080/",
          "height": 749
        },
        "id": "ikX4oZxFZ9Aw",
        "outputId": "ba52a67b-db8e-4dca-f99b-2ecff7d9a039"
      },
      "outputs": [
        {
          "name": "stdout",
          "output_type": "stream",
          "text": [
            "Model: Random Forest, Accuracy: 0.900000, F1 score: 0.909265\n",
            "Model: K-Nearest Neighbors, Accuracy: 0.825000, F1 score: 0.872173\n",
            "Model: Decision Tree, Accuracy: 0.875000, F1 score: 0.868677\n",
            "             Algorithm  Accuracy Score  F1 Score\n",
            "0        Random Forest           0.900  0.900000\n",
            "1  K-Nearest Neighbors           0.825  0.823350\n",
            "2        Decision Tree           0.875  0.875078\n"
          ]
        },
        {
          "data": {
            "image/png": "[encoded data removed]",
            "text/plain": [
              "<Figure size 1000x500 with 1 Axes>"
            ]
          },
          "metadata": {},
          "output_type": "display_data"
        }
      ],
      "source": [
        "# Khởi tạo và huấn luyện các mô hình\n",
        "models = {\n",
        "    \"Random Forest\": RandomForestClassifier(n_estimators=100, random_state=42),\n",
        "    \"K-Nearest Neighbors\": KNeighborsClassifier(n_neighbors=5),\n",
        "    \"Decision Tree\": DecisionTreeClassifier(random_state=42)\n",
        "}\n",
        "results = []\n",
        "# Huấn luyện và đánh giá các mô hình\n",
        "for model_name, model in models.items():\n",
        "    # Perform cross-validation\n",
        "    scores = cross_val_score(model, X, y, cv=5, scoring='f1_weighted')\n",
        "    # Train the model on the training data\n",
        "    model.fit(X_train, y_train)\n",
        "    y_pred = model.predict(X_test)  \n",
        "    # Calculate accuracy\n",
        "    accuracy = accuracy_score(y_test, y_pred)\n",
        "    # Calculate F1 score (weighted)\n",
        "    f1 = f1_score(y_test, y_pred, average='weighted')\n",
        "    print(f\"Model: {model_name}, Accuracy: {accuracy:.6f}, F1 score: {scores.mean():.6f}\")\n",
        "    results.append({'Algorithm': model_name, 'Accuracy Score': accuracy, 'F1 Score': f1})\n",
        "\n",
        "# Chuyển kết quả sang DataFrame\n",
        "results_df = pd.DataFrame(results)\n",
        "\n",
        "# Hiển thị bảng kết quả\n",
        "print(results_df)\n",
        "\n",
        "# Vẽ biểu đồ độ chính xác\n",
        "plt.figure(figsize=(10, 5))\n",
        "plt.bar(results_df['Algorithm'], results_df['F1 Score'], color='skyblue')\n",
        "plt.title('Model Performance Comparison')\n",
        "plt.ylabel('F1 score')\n",
        "plt.show()"
      ]
    },
    {
      "cell_type": "markdown",
      "metadata": {
        "id": "-PPiIKdhaCzu"
      },
      "source": [
        "### Tối ưu hóa tham số mô hình Random Forest (RF)"
      ]
    },
    {
      "cell_type": "code",
      "execution_count": 13,
      "metadata": {
        "colab": {
          "base_uri": "https://localhost:8080/"
        },
        "id": "ldX-ZPFLJj-m",
        "outputId": "742e2ae4-160c-4f99-ac16-077aedf760ce"
      },
      "outputs": [],
      "source": [
        "# from sklearn.model_selection import RandomizedSearchCV\n",
        "\n",
        "# param_grid = {'n_estimators': [50, 100, 200, 300, 400],\n",
        "#               'max_depth': [None, 10, 20, 30, 40, 50],\n",
        "#               'max_features': ['sqrt', 'log2'],\n",
        "#               'min_samples_split': [2, 5, 10],\n",
        "#               'min_samples_leaf': [1, 2, 4],\n",
        "#               'bootstrap': [True, False],\n",
        "#               'criterion': ['gini', 'entropy']\n",
        "#              }\n",
        "# grid_search = RandomizedSearchCV (RandomForestClassifier(), param_grid, n_iter=100, cv=5, scoring='f1_weighted')\n",
        "# grid_search.fit(X_train, y_train)\n",
        "# print(\"Best parameters: \", grid_search.best_params_)"
      ]
    },
    {
      "cell_type": "code",
      "execution_count": 14,
      "metadata": {
        "colab": {
          "base_uri": "https://localhost:8080/"
        },
        "id": "G-Na4VYL00T_",
        "outputId": "3ea8476d-4473-4b8e-8dcb-39d6050e5545"
      },
      "outputs": [],
      "source": [
        "# from sklearn.ensemble import RandomForestClassifier\n",
        "\n",
        "# # Khởi tạo mô hình với các siêu tham số tốt nhất\n",
        "# best_params = {'n_estimators': 300,\n",
        "#                'min_samples_split': 5,\n",
        "#                'min_samples_leaf': 1,\n",
        "#                'max_features': 'log2',\n",
        "#                'max_depth': 50,\n",
        "#                'criterion': 'gini',\n",
        "#                'bootstrap': False}\n",
        "\n",
        "# model = RandomForestClassifier(**best_params)\n",
        "\n",
        "# # Huấn luyện mô hình\n",
        "# model.fit(X_train, y_train)\n",
        "\n",
        "# # Dự đoán trên tập kiểm tra\n",
        "# y_pred = model.predict(X_test)\n",
        "\n",
        "# # Đánh giá mô hình\n",
        "# accuracy = accuracy_score(y_test, y_pred)\n",
        "# f1 = f1_score(y_test, y_pred, average='weighted')\n",
        "\n",
        "# print(f\"Accuracy: {accuracy} F1 Score: {f1}\")"
      ]
    },
    {
      "cell_type": "markdown",
      "metadata": {
        "id": "xCbird34v9ee"
      },
      "source": [
        "### Lưu mô hình"
      ]
    },
    {
      "cell_type": "code",
      "execution_count": 15,
      "metadata": {
        "colab": {
          "base_uri": "https://localhost:8080/"
        },
        "id": "9Q-5Q5L3vkgX",
        "outputId": "3106f000-0e7b-4c8d-e36c-a067ed0dfbe3"
      },
      "outputs": [],
      "source": [
        "# import joblib\n",
        "\n",
        "# model_filename = 'randomforest_model.pkl'\n",
        "\n",
        "# # Lưu mô hình\n",
        "# joblib.dump(model, model_filename)\n",
        "\n",
        "# print(f\"Mô hình đã được lưu thành công tại {model_filename}\")"
      ]
    },
    {
      "cell_type": "markdown",
      "metadata": {
        "id": "J2S81pOGv-2t"
      },
      "source": [
        "### Tải mô hình"
      ]
    },
    {
      "cell_type": "code",
      "execution_count": 16,
      "metadata": {
        "colab": {
          "base_uri": "https://localhost:8080/"
        },
        "id": "CRxjU8Xpv8NX",
        "outputId": "ba7460b3-efb1-4062-96c8-d8c7d82daa7e"
      },
      "outputs": [],
      "source": [
        "# # Tải mô hình đã lưu\n",
        "# loaded_model = joblib.load(model_filename)\n",
        "\n",
        "# # Sử dụng mô hình để dự đoán\n",
        "# y_pred = loaded_model.predict(X_test)\n",
        "\n",
        "# print(\"Mô hình đã được tải và sẵn sàng sử dụng.\")"
      ]
    },
    {
      "cell_type": "code",
      "execution_count": 17,
      "metadata": {
        "colab": {
          "base_uri": "https://localhost:8080/"
        },
        "id": "z76aBXuTxzMz",
        "outputId": "dba77bef-f80c-47ec-dda9-46e429cbd59d"
      },
      "outputs": [],
      "source": [
        "# # Tính accuracy\n",
        "# accuracy = accuracy_score(y_test, y_pred)\n",
        "# f1 = f1_score(y_test, y_pred, average='weighted')\n",
        "# print(f\"               Algorithm  Accuracy Score  F1 Score\")\n",
        "# print(f\"Random Forest Classifier        {accuracy:.6f}  {f1:.6f}\")\n"
      ]
    },
    {
      "cell_type": "markdown",
      "metadata": {
        "id": "0mW662T2aJzG"
      },
      "source": [
        "### Ma trận nhầm lẫn"
      ]
    },
    {
      "cell_type": "code",
      "execution_count": 18,
      "metadata": {
        "colab": {
          "base_uri": "https://localhost:8080/",
          "height": 547
        },
        "id": "6S9Xt8p0Kx3E",
        "outputId": "34e96625-b627-4751-b65b-8830db657201"
      },
      "outputs": [
        {
          "data": {
            "image/png": "[encoded data removed]",
            "text/plain": [
              "<Figure size 640x480 with 2 Axes>"
            ]
          },
          "metadata": {},
          "output_type": "display_data"
        }
      ],
      "source": [
        "# Huấn luyện mô hình Random Forest\n",
        "rf_model = RandomForestClassifier(n_estimators=100, random_state=42)\n",
        "rf_model.fit(X_train, y_train)\n",
        "\n",
        "# Dự đoán và hiển thị ma trận nhầm lẫn trên tập kiểm tra\n",
        "y_pred = rf_model.predict(X_test)\n",
        "cm = confusion_matrix(y_test, y_pred)\n",
        "disp = ConfusionMatrixDisplay(confusion_matrix=cm, display_labels=['Adult Voice', 'Baby Cry'])\n",
        "disp.plot(cmap='Blues')\n",
        "plt.title(\"Confusion Matrix - Random Forest on Test Set\")\n",
        "plt.show()"
      ]
    },
    {
      "cell_type": "code",
      "execution_count": 19,
      "metadata": {},
      "outputs": [
        {
          "name": "stdout",
          "output_type": "stream",
          "text": [
            "File: bbcry.wav, Predicted Label: Baby Cry\n",
            "File: bbcry1.wav, Predicted Label: Baby Cry\n",
            "File: bbcry2.wav, Predicted Label: Baby Cry\n",
            "File: bbcry3.wav, Predicted Label: Baby Cry\n",
            "File: bbcry4.wav, Predicted Label: Baby Cry\n",
            "File: bbcry5.wav, Predicted Label: Baby Cry\n",
            "File: FHU_RE_005.wav, Predicted Label: Adult Voice\n",
            "File: lab_female.wav, Predicted Label: Adult Voice\n",
            "File: lab_male.wav, Predicted Label: Adult Voice\n",
            "File: male1.wav, Predicted Label: Adult Voice\n",
            "File: male2.wav, Predicted Label: Adult Voice\n",
            "File: male3.wav, Predicted Label: Adult Voice\n",
            "File: MDU_RE_005.wav, Predicted Label: Adult Voice\n",
            "File: studio_female.wav, Predicted Label: Adult Voice\n",
            "File: studio_male.wav, Predicted Label: Adult Voice\n"
          ]
        }
      ],
      "source": [
        "testing_dir = 'testing'\n",
        "\n",
        "def test_model(directory, model):\n",
        "    test_features = []\n",
        "    test_files = []\n",
        "    for filename in os.listdir(directory):\n",
        "        if filename.endswith('.wav'):\n",
        "            filepath = os.path.join(directory, filename)\n",
        "            y, sr = librosa.load(filepath, sr=None)\n",
        "            y = normalize_audio_length(y, sr)\n",
        "            features = extract_features(y, sr)\n",
        "            test_features.append(features)\n",
        "            test_files.append(filename)\n",
        "    \n",
        "    test_features = np.array(test_features)\n",
        "    predictions = model.predict(test_features)\n",
        "    \n",
        "    # Hiển thị kết quả dự đoán\n",
        "    for file, pred in zip(test_files, predictions):\n",
        "        label = \"Baby Cry\" if pred == 1 else \"Adult Voice\"\n",
        "        print(f\"File: {file}, Predicted Label: {label}\")\n",
        "\n",
        "# Kiểm thử mô hình\n",
        "test_model(testing_dir, rf_model)"
      ]
    }
  ],
  "metadata": {
    "colab": {
      "provenance": []
    },
    "kernelspec": {
      "display_name": "Python 3",
      "name": "python3"
    },
    "language_info": {
      "codemirror_mode": {
        "name": "ipython",
        "version": 3
      },
      "file_extension": ".py",
      "mimetype": "text/x-python",
      "name": "python",
      "nbconvert_exporter": "python",
      "pygments_lexer": "ipython3",
      "version": "3.10.11"
    }
  },
  "nbformat": 4,
  "nbformat_minor": 0
}
