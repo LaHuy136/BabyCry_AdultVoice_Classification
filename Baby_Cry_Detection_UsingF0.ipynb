{
 "cells": [
  {
   "cell_type": "markdown",
   "metadata": {},
   "source": [
    "#### Import libraries"
   ]
  },
  {
   "cell_type": "code",
   "execution_count": 1,
   "metadata": {},
   "outputs": [],
   "source": [
    "import librosa\n",
    "import numpy as np\n",
    "import os\n",
    "from sklearn.metrics import confusion_matrix, accuracy_score, classification_report\n",
    "import time"
   ]
  },
  {
   "cell_type": "markdown",
   "metadata": {},
   "source": [
    "#### Normalized Energy"
   ]
  },
  {
   "cell_type": "code",
   "execution_count": 2,
   "metadata": {},
   "outputs": [],
   "source": [
    "def compute_normalized_energy(frames):\n",
    "    \"\"\"Tính năng lượng chuẩn hóa của từng khung.\"\"\"\n",
    "    energy = np.sum(frames**2, axis=1)\n",
    "    if np.max(energy) > 0:\n",
    "        normalized_energy = energy / np.max(energy)  # Chuẩn hóa nếu max > 0\n",
    "    else:\n",
    "        normalized_energy = energy  # Giữ nguyên nếu max = 0\n",
    "\n",
    "    return normalized_energy"
   ]
  },
  {
   "cell_type": "markdown",
   "metadata": {},
   "source": [
    "#### Caculated F0 Using HPS"
   ]
  },
  {
   "cell_type": "code",
   "execution_count": 99,
   "metadata": {},
   "outputs": [],
   "source": [
    "def autocorrelation(signal):\n",
    "    result = np.correlate(signal, signal, mode='full')\n",
    "    mid = len(result) // 2\n",
    "    return result[mid:]\n",
    "\n",
    "def find_f0(signal, sr, min_freq=50, max_freq=700):\n",
    "    ac = autocorrelation(signal)\n",
    "    # Xác định chỉ số của độ trễ (delay) tương ứng với tần số cơ bản\n",
    "    ac = ac[int(sr / max_freq):]\n",
    "    # Tìm chỉ số của độ trễ tối đa\n",
    "    peak = np.argmax(ac)\n",
    "    # Tính F0 từ chỉ số độ trễ\n",
    "    f0 = sr / (peak + int(sr / max_freq))\n",
    "    \n",
    "    # Nếu F0 nằm ngoài khoảng cho phép, trả về NaN\n",
    "    if f0 < min_freq or f0 > max_freq:\n",
    "        return 0\n",
    "    \n",
    "    return f0"
   ]
  },
  {
   "cell_type": "markdown",
   "metadata": {},
   "source": [
    "#### Detect Baby Cry"
   ]
  },
  {
   "cell_type": "code",
   "execution_count": 120,
   "metadata": {},
   "outputs": [],
   "source": [
    "def detect_audio_class(file_path, frame_length_ms=30, frame_step_ms=15, sr=16000, \n",
    "                       energy_threshold=0.005, f0_threshold=500):\n",
    "\n",
    "    signal, sr = librosa.load(file_path, sr=sr)\n",
    "\n",
    "    frame_length = int(frame_length_ms * sr / 1000)\n",
    "    frame_step = int(frame_step_ms * sr / 1000)\n",
    "    frames = librosa.util.frame(signal, frame_length=frame_length, hop_length=frame_step).T\n",
    "    \n",
    "    normalized_energy = compute_normalized_energy(frames)\n",
    "\n",
    "    silence_count = 0\n",
    "    voice_count = 0\n",
    "    cry_count = 0\n",
    "\n",
    "    for frame, energy in zip(frames, normalized_energy):\n",
    "        if energy < energy_threshold:\n",
    "            silence_count += 1\n",
    "        else:\n",
    "            f0 = find_f0(frame, sr)\n",
    "            print(f0) \n",
    "            if f0 > f0_threshold:\n",
    "                cry_count += 1\n",
    "            elif f0 == 0:\n",
    "                continue\n",
    "            else:\n",
    "                voice_count += 1\n",
    "\n",
    "    print(f\"Frames classified as Silence: {silence_count}\")\n",
    "    print(f\"Frames classified as Voice: {voice_count}\")\n",
    "    print(f\"Frames classified as Cry: {cry_count}\")\n",
    "\n",
    "    if silence_count > max(voice_count, cry_count):\n",
    "        if voice_count > cry_count:\n",
    "            return \"Adult Voice\"\n",
    "        else:\n",
    "            return \"Baby Cry\"\n",
    "    elif cry_count > voice_count:\n",
    "        return \"Baby Cry\"\n",
    "    else:\n",
    "        return \"Adult Voice\""
   ]
  },
  {
   "cell_type": "code",
   "execution_count": null,
   "metadata": {},
   "outputs": [],
   "source": [
    "if __name__ == \"__main__\":\n",
    "    file_path = \"pbl6_01_audio.wav\"\n",
    "    \n",
    "    classification = detect_audio_class(file_path)\n",
    "    print(f\"Audio is classified as: {classification}\")"
   ]
  },
  {
   "cell_type": "code",
   "execution_count": 6,
   "metadata": {},
   "outputs": [],
   "source": [
    "def evaluate_audio_classification(dataset_path, frame_length_ms=30, frame_step_ms=15, \n",
    "                                  sr=16000, energy_threshold=0.02, f0_threshold=300):\n",
    "    true_labels = []\n",
    "    predicted_labels = []\n",
    "    \n",
    "    class_map = {'adult voice': 'Adult Voice', 'baby cry': 'Baby Cry'}\n",
    "\n",
    "    # Tổng thời gian thực thi cho tất cả các tệp\n",
    "    total_time = 0\n",
    "    total_files = 0\n",
    "    file_times = []  # Dùng để lưu trữ thời gian xử lý từng tệp\n",
    "    \n",
    "    start_time = time.time()  # Bắt đầu tính thời gian toàn bộ quá trình\n",
    "\n",
    "    for class_name, expected_label in class_map.items():\n",
    "        class_folder = os.path.join(dataset_path, class_name)\n",
    "        if not os.path.isdir(class_folder):\n",
    "            print(f\"Directory not found: {class_folder}\")\n",
    "            continue\n",
    "        \n",
    "        print(f\"Processing class: {class_name}\")\n",
    "        \n",
    "        for file_name in os.listdir(class_folder):\n",
    "            file_path = os.path.join(class_folder, file_name)\n",
    "            \n",
    "            # Bắt đầu đo thời gian cho từng tệp\n",
    "            file_start_time = time.time()\n",
    "\n",
    "            predicted_label = detect_audio_class(\n",
    "                file_path, \n",
    "                frame_length_ms=frame_length_ms, \n",
    "                frame_step_ms=frame_step_ms, \n",
    "                sr=sr, \n",
    "                energy_threshold=energy_threshold, \n",
    "                f0_threshold=f0_threshold\n",
    "            )\n",
    "            \n",
    "            # Ghi nhãn thực và nhãn dự đoán\n",
    "            true_labels.append(expected_label)\n",
    "            predicted_labels.append(predicted_label)\n",
    "\n",
    "            # Tính thời gian cho file hiện tại\n",
    "            file_end_time = time.time()\n",
    "            file_time = file_end_time - file_start_time\n",
    "            total_time += file_time\n",
    "            total_files += 1\n",
    "\n",
    "            # Lưu thời gian vào danh sách\n",
    "            file_times.append(file_time)\n",
    "\n",
    "    # Kết thúc đo thời gian\n",
    "    end_time = time.time()\n",
    "    elapsed_time = end_time - start_time\n",
    "\n",
    "    # Tính độ chính xác\n",
    "    accuracy = accuracy_score(true_labels, predicted_labels) * 100\n",
    "    print(\"Độ chính xác: {:.2f}%\".format(accuracy))\n",
    "\n",
    "    # Tính và in độ chính xác theo từng lớp\n",
    "    print(\"\\nĐộ chính xác mỗi lớp:\")\n",
    "    for label in class_map.values():\n",
    "        class_true = [1 if l == label else 0 for l in true_labels]\n",
    "        class_pred = [1 if l == label else 0 for l in predicted_labels]\n",
    "        class_accuracy = accuracy_score(class_true, class_pred) * 100\n",
    "        print(f\"- {label}: {class_accuracy:.2f}%\")\n",
    "\n",
    "    # Báo cáo chi tiết\n",
    "    # print(\"\\nClassification Report:\")\n",
    "    print(classification_report(true_labels, predicted_labels, target_names=class_map.values(), zero_division=0))\n",
    "\n",
    "    # # In tổng thời gian cho tất cả quá trình đánh giá\n",
    "    print(f\"\\nTổng thời gian xử lý: {elapsed_time:.4f} seconds\")\n",
    "\n",
    "    # # Tính thời gian trung bình xử lý mỗi tệp\n",
    "    if total_files > 0:\n",
    "        avg_time_per_file = total_time / total_files\n",
    "        std_dev_time_per_file = np.std(file_times)  # Tính độ lệch chuẩn từ danh sách file_times\n",
    "        print(f\"Trung bình (Mean) của 1 tệp: {avg_time_per_file:.4f} seconds\")\n",
    "        print(f\"Độ lệch chuẩn (Std Dev) của 1 tệp: {std_dev_time_per_file:.4f} seconds\")\n",
    "        \n",
    "    # Ma trận nhầm lẫn\n",
    "    cm = confusion_matrix(true_labels, predicted_labels, labels=list(class_map.values()))\n",
    "    print(\"\\nMa trận nhầm lẫn:\")\n",
    "    print(cm)"
   ]
  },
  {
   "cell_type": "code",
   "execution_count": null,
   "metadata": {},
   "outputs": [],
   "source": [
    "if __name__ == '__main__':\n",
    "    dataset_testing_path = 'datasets_testing'\n",
    "    evaluate_audio_classification(dataset_testing_path)"
   ]
  }
 ],
 "metadata": {
  "kernelspec": {
   "display_name": "Python 3",
   "language": "python",
   "name": "python3"
  },
  "language_info": {
   "codemirror_mode": {
    "name": "ipython",
    "version": 3
   },
   "file_extension": ".py",
   "mimetype": "text/x-python",
   "name": "python",
   "nbconvert_exporter": "python",
   "pygments_lexer": "ipython3",
   "version": "3.10.11"
  }
 },
 "nbformat": 4,
 "nbformat_minor": 2
}
