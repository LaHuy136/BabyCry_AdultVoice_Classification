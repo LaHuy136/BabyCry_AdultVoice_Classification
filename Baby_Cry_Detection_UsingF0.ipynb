{
 "cells": [
  {
   "cell_type": "markdown",
   "metadata": {},
   "source": [
    "#### Import libraries"
   ]
  },
  {
   "cell_type": "code",
   "execution_count": 1,
   "metadata": {},
   "outputs": [],
   "source": [
    "import numpy as np\n",
    "import librosa"
   ]
  },
  {
   "cell_type": "markdown",
   "metadata": {},
   "source": [
    "#### Normalized Energy"
   ]
  },
  {
   "cell_type": "code",
   "execution_count": 2,
   "metadata": {},
   "outputs": [],
   "source": [
    "def compute_normalized_energy(frames):\n",
    "    \"\"\"Tính năng lượng chuẩn hóa của từng khung.\"\"\"\n",
    "    energy = np.sum(frames**2, axis=1)\n",
    "    if np.max(energy) > 0:\n",
    "        normalized_energy = energy / np.max(energy)  # Chuẩn hóa nếu max > 0\n",
    "    else:\n",
    "        normalized_energy = energy  # Giữ nguyên nếu max = 0\n",
    "\n",
    "    return normalized_energy"
   ]
  },
  {
   "cell_type": "markdown",
   "metadata": {},
   "source": [
    "#### Caculated F0 Using Autocorrelation"
   ]
  },
  {
   "cell_type": "code",
   "execution_count": 3,
   "metadata": {},
   "outputs": [],
   "source": [
    "def autocorrelation_f0(frame, fs, fmin=60, fmax=700):\n",
    "    \"\"\"Tính F0 bằng phương pháp tự tương quan.\"\"\"\n",
    "    corr = np.correlate(frame, frame, mode='full')[len(frame) - 1:]\n",
    "    corr[:int(fs / fmax)] = 0  # Loại bỏ tần số quá cao\n",
    "    peak_idx = np.argmax(corr)\n",
    "    peak_lag = peak_idx if corr[peak_idx] > 0 else 0\n",
    "    f0 = fs / peak_lag if peak_lag != 0 else 0\n",
    "    return f0"
   ]
  },
  {
   "cell_type": "markdown",
   "metadata": {},
   "source": [
    "#### Detect Baby Cry"
   ]
  },
  {
   "cell_type": "code",
   "execution_count": 4,
   "metadata": {},
   "outputs": [],
   "source": [
    "def detect_audio_class(file_path, frame_length_ms=30, frame_step_ms=15, sr=16000, \n",
    "                       energy_threshold=0.001, f0_threshold=400):\n",
    "\n",
    "    signal, sr = librosa.load(file_path, sr=sr)\n",
    "\n",
    "    frame_length = int(frame_length_ms * sr / 1000)\n",
    "    frame_step = int(frame_step_ms * sr / 1000)\n",
    "    frames = librosa.util.frame(signal, frame_length=frame_length, hop_length=frame_step).T\n",
    "    \n",
    "    normalized_energy = compute_normalized_energy(frames)\n",
    "\n",
    "    silence_count = 0\n",
    "    voice_count = 0\n",
    "    cry_count = 0\n",
    "\n",
    "    for frame, energy in zip(frames, normalized_energy):\n",
    "        if energy < energy_threshold:\n",
    "            silence_count += 1\n",
    "        else:\n",
    "            f0 = autocorrelation_f0(frame, sr) \n",
    "            if f0 > f0_threshold:\n",
    "                cry_count += 1\n",
    "            else:\n",
    "                voice_count += 1\n",
    "\n",
    "    # In thông tin phân loại\n",
    "    print(f\"Frames classified as Silence: {silence_count}\")\n",
    "    print(f\"Frames classified as Voice: {voice_count}\")\n",
    "    print(f\"Frames classified as Cry: {cry_count}\")\n",
    "\n",
    "    # Quyết định lớp dựa trên số lượng khung\n",
    "    if silence_count > max(voice_count, cry_count):\n",
    "        return \"Silence\"\n",
    "    elif cry_count > voice_count:\n",
    "        return \"Baby Cry\"\n",
    "    else:\n",
    "        return \"Adult Voice\""
   ]
  },
  {
   "cell_type": "code",
   "execution_count": null,
   "metadata": {},
   "outputs": [],
   "source": [
    "if __name__ == \"__main__\":\n",
    "    file_path = \"datasets_testing/pbl6_01_20241114140204.wav\"\n",
    "    \n",
    "    classification = detect_audio_class(file_path)\n",
    "    print(f\"Audio is classified as: {classification}\")"
   ]
  }
 ],
 "metadata": {
  "kernelspec": {
   "display_name": "Python 3",
   "language": "python",
   "name": "python3"
  },
  "language_info": {
   "codemirror_mode": {
    "name": "ipython",
    "version": 3
   },
   "file_extension": ".py",
   "mimetype": "text/x-python",
   "name": "python",
   "nbconvert_exporter": "python",
   "pygments_lexer": "ipython3",
   "version": "3.10.11"
  }
 },
 "nbformat": 4,
 "nbformat_minor": 2
}
