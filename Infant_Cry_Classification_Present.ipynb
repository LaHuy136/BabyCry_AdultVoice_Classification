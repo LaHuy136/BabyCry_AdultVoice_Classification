{
 "cells": [
  {
   "cell_type": "markdown",
   "metadata": {},
   "source": [
    "### Import Libraries"
   ]
  },
  {
   "cell_type": "code",
   "execution_count": 24,
   "metadata": {},
   "outputs": [],
   "source": [
    "import os\n",
    "import numpy as np\n",
    "import librosa\n",
    "import soundfile as sf\n",
    "import pandas as pd\n",
    "import matplotlib.pyplot as plt\n",
    "from scipy.signal import butter, lfilter\n",
    "from collections import defaultdict\n",
    "from sklearn.ensemble import RandomForestClassifier, BaggingClassifier\n",
    "from sklearn.tree import DecisionTreeClassifier\n",
    "from sklearn.neighbors import KNeighborsClassifier\n",
    "from sklearn.svm import SVC\n",
    "from sklearn.model_selection import train_test_split, cross_val_score\n",
    "from sklearn.metrics import classification_report, accuracy_score, f1_score, confusion_matrix, ConfusionMatrixDisplay\n",
    "from sklearn.preprocessing import LabelEncoder"
   ]
  },
  {
   "cell_type": "markdown",
   "metadata": {},
   "source": [
    "### 1. Pre-processing"
   ]
  },
  {
   "cell_type": "code",
   "execution_count": 25,
   "metadata": {},
   "outputs": [],
   "source": [
    "sample_rate = 16000\n",
    "frame_length = int(0.032 * sample_rate)  # 32ms\n",
    "hop_length = frame_length//2    # 16ms"
   ]
  },
  {
   "cell_type": "code",
   "execution_count": 26,
   "metadata": {},
   "outputs": [],
   "source": [
    "def select_cry_frames_using_energy(signal: np.ndarray, frame_length, hop_length, thresh=0.1) -> list:\n",
    "    energy = np.array([\n",
    "        sum(abs(signal[i:i+frame_length]**2))\n",
    "        for i in range(0, len(signal), hop_length)\n",
    "    ])\n",
    "    energy_norm = energy / max(energy)\n",
    "    index_cry = [i for i in range(len(energy)) if energy_norm[i] >= thresh]\n",
    "    return index_cry\n",
    "\n",
    "def split_segments(index_voices: list, hop_length, sr, duration_ms=30) -> list:\n",
    "    \"\"\"\n",
    "    Chia các khung tiếng khóc thành các phân đoạn có độ dài chính xác theo ms (200ms).\n",
    "    \"\"\"\n",
    "    # Tính số frame tương ứng với 200ms\n",
    "    frames_per_segment = int(duration_ms * sr / 1000 / hop_length)\n",
    "    \n",
    "    start = index_voices[0]\n",
    "    segments = []\n",
    "    for i in range(1, len(index_voices)):\n",
    "        if index_voices[i] - index_voices[i-1] > 1:\n",
    "            # Khi có một khoảng cách giữa các khung lớn hơn 1 frame, thêm phân đoạn trước đó\n",
    "            segments.append((start, index_voices[i-1]))\n",
    "            start = index_voices[i]\n",
    "    # Thêm phân đoạn cuối cùng\n",
    "    segments.append((start, index_voices[-1]))\n",
    "\n",
    "    # Chỉ giữ lại những phân đoạn có đúng số frame tương ứng với 200ms\n",
    "    return [(start, end) for start, end in segments if (end - start) == frames_per_segment]"
   ]
  },
  {
   "cell_type": "markdown",
   "metadata": {},
   "source": [
    "### 2. Features Extraction"
   ]
  },
  {
   "cell_type": "code",
   "execution_count": 27,
   "metadata": {},
   "outputs": [],
   "source": [
    "n_mfcc = 40\n",
    "n_fft = 1024  # setting the FFT size to 1024\n",
    "hop_length = 10*16 # 25ms*16khz samples has been taken\n",
    "win_length = 25*16 #25ms*16khz samples has been taken for window length\n",
    "window = 'hann' #hann window used\n",
    "n_chroma=12\n",
    "n_mels=128\n",
    "n_bands=7 #we are extracting the 7 features out of the spectral contrast\n",
    "fmin=100\n",
    "bins_per_ocatve=12"
   ]
  },
  {
   "cell_type": "code",
   "execution_count": 28,
   "metadata": {},
   "outputs": [],
   "source": [
    "def extract_features(y, sr):    \n",
    "    mfcc = np.mean(librosa.feature.mfcc(y=y, sr=sr, n_mfcc=40,n_fft=n_fft,hop_length=hop_length,win_length=win_length,window=window).T,axis=0)\n",
    "    mel = np.mean(librosa.feature.melspectrogram(y=y, sr=sr,n_fft=n_fft, hop_length=hop_length, win_length=win_length, window='hann',n_mels=n_mels).T,axis=0)\n",
    "    stft = np.abs(librosa.stft(y))\n",
    "    chroma = np.mean(librosa.feature.chroma_stft(S=stft, y=y, sr=sr).T,axis=0)\n",
    "    contrast = np.mean(librosa.feature.spectral_contrast(S=stft, y=y, sr=sr,n_fft=n_fft,\n",
    "                                                    hop_length=hop_length, win_length=win_length,\n",
    "                                                    n_bands=n_bands, fmin=fmin).T,axis=0)\n",
    "    tonnetz =np.mean(librosa.feature.tonnetz(y=y, sr=sr).T,axis=0)\n",
    "    features = np.concatenate((mfcc, chroma, mel, contrast, tonnetz))\n",
    "    # print(shape(features))\n",
    "    return features"
   ]
  },
  {
   "cell_type": "code",
   "execution_count": 29,
   "metadata": {},
   "outputs": [],
   "source": [
    "# def extract_features(signal, sr, n_mfcc=12, n_fft=512):\n",
    "#     # Trích xuất MFCC (Mel Frequency Cepstral Coefficients)\n",
    "#     mfccs = librosa.feature.mfcc(y=signal, sr=sr, n_mfcc=n_mfcc, hop_length=hop_length, n_fft=n_fft)\n",
    "    \n",
    "#     # Trích xuất RMS (Root Mean Square)\n",
    "#     rms = librosa.feature.rms(y=signal, frame_length=frame_length, hop_length=hop_length)\n",
    "    \n",
    "#     # Trích xuất Zero-Crossing Rate (ZCR)\n",
    "#     zcr = librosa.feature.zero_crossing_rate(y=signal, frame_length=frame_length, hop_length=hop_length)\n",
    "    \n",
    "#     spectral_centroid = librosa.feature.spectral_centroid(y=signal, sr=sr, n_fft=n_fft, hop_length=hop_length)\n",
    "#     spectral_bandwidth = librosa.feature.spectral_bandwidth(y=signal, sr=sr, n_fft=n_fft, hop_length=hop_length)\n",
    "#     spectral_contrast = librosa.feature.spectral_contrast(y=signal, sr=sr, n_fft=n_fft, hop_length=hop_length)\n",
    "#     spectral_rolloff = librosa.feature.spectral_rolloff(y=signal, sr=sr, n_fft=n_fft, hop_length=hop_length)\n",
    "    \n",
    "#     mel_spectrogram = librosa.feature.melspectrogram(y=signal, sr=sr, n_fft=n_fft, hop_length=hop_length, win_length=frame_length, n_mels=128)\n",
    "    \n",
    "#     # Trả về tất cả các đặc trưng: MFCCs, RMS, và Zero-Crossing Rate\n",
    "#     # return np.concatenate([mfccs, rms, zcr], axis=0).reshape(-1)\n",
    "#     features = np.concatenate([ mfccs, zcr, spectral_bandwidth, spectral_contrast, spectral_centroid, spectral_rolloff, mel_spectrogram], axis=0)\n",
    "#     features = features.reshape(-1)\n",
    "#     return features\n"
   ]
  },
  {
   "cell_type": "code",
   "execution_count": 30,
   "metadata": {},
   "outputs": [
    {
     "name": "stdout",
     "output_type": "stream",
     "text": [
      "Lớp belly_pain có 36 file.\n",
      "Lớp burping có 27 file.\n",
      "Lớp discomfort có 36 file.\n",
      "Lớp scared có 30 file.\n",
      "Lớp tired có 42 file.\n"
     ]
    }
   ],
   "source": [
    "data_dir = 'data_bbcry_classification'\n",
    "\n",
    "for label in os.listdir(data_dir):\n",
    "    class_dir = os.path.join(data_dir, label)\n",
    "    \n",
    "    if os.path.isdir(class_dir):\n",
    "        file_count = len(os.listdir(class_dir))  \n",
    "        print(f\"Lớp {label} có {file_count} file.\")"
   ]
  },
  {
   "cell_type": "code",
   "execution_count": 31,
   "metadata": {},
   "outputs": [],
   "source": [
    "X = []\n",
    "y = []\n",
    "\n",
    "# Duyệt qua từng lớp\n",
    "for label in os.listdir(data_dir):\n",
    "    class_dir = os.path.join(data_dir, label)\n",
    "    if not os.path.isdir(class_dir):\n",
    "        continue\n",
    "    for file_name in os.listdir(class_dir):\n",
    "        file_path = os.path.join(class_dir, file_name)\n",
    "        \n",
    "        # Load file âm thanh\n",
    "        signal, sr = librosa.load(file_path, sr=16000)\n",
    "       \n",
    "        features = extract_features(signal, sr)\n",
    "        X.append(features)\n",
    "        y.append(label)"
   ]
  },
  {
   "cell_type": "code",
   "execution_count": 32,
   "metadata": {},
   "outputs": [],
   "source": [
    "# X = []\n",
    "# y = []\n",
    "\n",
    "# # Duyệt qua từng lớp\n",
    "# for label in os.listdir(data_dir):\n",
    "#     class_dir = os.path.join(data_dir, label)\n",
    "#     if not os.path.isdir(class_dir):\n",
    "#         continue\n",
    "#     for file_name in os.listdir(class_dir):\n",
    "#         file_path = os.path.join(class_dir, file_name)\n",
    "        \n",
    "#         # Load file âm thanh\n",
    "#         signal, sr = librosa.load(file_path, sr=16000)\n",
    "        \n",
    "#         # Chọn các frame chứa tiếng khóc dựa vào năng lượng chuẩn hóa\n",
    "#         index_cry = select_cry_frames_using_energy(signal, frame_length, hop_length)\n",
    "        \n",
    "#         # Chia các frame thành các segment\n",
    "#         segments = split_segments(index_cry, hop_length, sr)\n",
    "        \n",
    "#         # Trích xuất đặc trưng cho từng segment\n",
    "#         for (start, end) in segments:\n",
    "#             segment = signal[start * hop_length : end * hop_length]\n",
    "#             features = extract_features(segment, sr)\n",
    "#             X.append(features)\n",
    "#             y.append(label)"
   ]
  },
  {
   "cell_type": "code",
   "execution_count": 33,
   "metadata": {},
   "outputs": [
    {
     "name": "stdout",
     "output_type": "stream",
     "text": [
      "Kích thước của X: (171, 194)\n",
      "Kích thước của y: (171,)\n"
     ]
    }
   ],
   "source": [
    "print(\"Kích thước của X:\", np.shape(X))\n",
    "print(\"Kích thước của y:\", np.shape(y))"
   ]
  },
  {
   "cell_type": "markdown",
   "metadata": {},
   "source": [
    "### 3. Train Test Split"
   ]
  },
  {
   "cell_type": "code",
   "execution_count": 34,
   "metadata": {},
   "outputs": [],
   "source": [
    "# Chuyển đổi nhãn sang dạng số\n",
    "le = LabelEncoder()\n",
    "y = le.fit_transform(y)\n",
    "\n",
    "# Chia tập dữ liệu thành tập huấn luyện và tập kiểm tra\n",
    "X_train, X_test, y_train, y_test = train_test_split(X, y, test_size=0.3, random_state=42)"
   ]
  },
  {
   "cell_type": "code",
   "execution_count": 35,
   "metadata": {},
   "outputs": [
    {
     "name": "stdout",
     "output_type": "stream",
     "text": [
      "Kích thước của X_train: (119, 194)\n",
      "Kích thước của X_test: (52, 194)\n",
      "Kích thước của y_train: (119,)\n",
      "Kích thước của y_test: (52,)\n"
     ]
    }
   ],
   "source": [
    "print(\"Kích thước của X_train:\", np.shape(X_train))\n",
    "print(\"Kích thước của X_test:\", np.shape(X_test))\n",
    "print(\"Kích thước của y_train:\", np.shape(y_train))\n",
    "print(\"Kích thước của y_test:\", np.shape(y_test))"
   ]
  },
  {
   "cell_type": "markdown",
   "metadata": {},
   "source": [
    "### 4. Training Model"
   ]
  },
  {
   "cell_type": "code",
   "execution_count": 36,
   "metadata": {},
   "outputs": [
    {
     "name": "stdout",
     "output_type": "stream",
     "text": [
      "Model: Random Forest, Accuracy: 0.846154, F1 score: 0.849626\n",
      "Model: Bagged Tree, Accuracy: 0.865385, F1 score: 0.870894\n",
      "Model: KNN, Accuracy: 0.480769, F1 score: 0.471195\n",
      "       Algorithm  Accuracy Score  F1 Score\n",
      "0  Random Forest        0.846154  0.849626\n",
      "1    Bagged Tree        0.865385  0.870894\n",
      "2            KNN        0.480769  0.471195\n"
     ]
    },
    {
     "data": {
      "image/png": "[encoded data removed]",
      "text/plain": [
       "<Figure size 1000x500 with 1 Axes>"
      ]
     },
     "metadata": {},
     "output_type": "display_data"
    }
   ],
   "source": [
    "# Huấn luyện và đánh giá mô hình\n",
    "models = {\n",
    "    'Random Forest': RandomForestClassifier(n_estimators=100, random_state=42),\n",
    "    'Bagged Tree': BaggingClassifier(estimator=DecisionTreeClassifier(), n_estimators=100),\n",
    "    'KNN':  KNeighborsClassifier(n_neighbors=4),\n",
    "    # 'SVM': SVC(kernel='linear', C=1, random_state=42),\n",
    "}\n",
    "\n",
    "results = []\n",
    "# Huấn luyện và đánh giá các mô hình\n",
    "for model_name, model in models.items():\n",
    "    scores = cross_val_score(model, X, y, cv=2, scoring='f1_weighted')\n",
    "    \n",
    "    model.fit(X_train, y_train)\n",
    "    y_pred = model.predict(X_test)  \n",
    "    \n",
    "    accuracy = accuracy_score(y_test, y_pred)\n",
    "    \n",
    "    f1 = f1_score(y_test, y_pred, average='weighted')\n",
    "    print(f\"Model: {model_name}, Accuracy: {accuracy:.6f}, F1 score: {f1:.6f}\")\n",
    "    results.append({'Algorithm': model_name, 'Accuracy Score': accuracy, 'F1 Score': f1})\n",
    "\n",
    "\n",
    "results_df = pd.DataFrame(results)\n",
    "\n",
    "print(results_df)\n",
    "\n",
    "plt.figure(figsize=(10, 5))\n",
    "plt.bar(results_df['Algorithm'], results_df['F1 Score'], color='skyblue')\n",
    "plt.title('Model Performance Comparison')\n",
    "plt.ylabel('F1 score')\n",
    "plt.show()"
   ]
  },
  {
   "cell_type": "markdown",
   "metadata": {},
   "source": [
    "#### Confusion matrix"
   ]
  },
  {
   "cell_type": "code",
   "execution_count": 37,
   "metadata": {},
   "outputs": [
    {
     "name": "stdout",
     "output_type": "stream",
     "text": [
      "Shape of confusion matrix: (5, 5)\n",
      "Number of classes: 5\n"
     ]
    },
    {
     "data": {
      "image/png": "[encoded data removed]",
      "text/plain": [
       "<Figure size 640x480 with 2 Axes>"
      ]
     },
     "metadata": {},
     "output_type": "display_data"
    }
   ],
   "source": [
    "# Huấn luyện mô hình Random Forest\n",
    "rf_model = RandomForestClassifier(n_estimators=100, random_state=42)\n",
    "rf_model.fit(X_train, y_train)\n",
    "\n",
    "y_pred = rf_model.predict(X_test)\n",
    "cm = confusion_matrix(y_test, y_pred)\n",
    "\n",
    "cm_percent = cm.astype('float') / cm.sum(axis=1)[:, np.newaxis] * 100\n",
    "\n",
    "# Kiểm tra kích thước của ma trận confusion matrix\n",
    "print(\"Shape of confusion matrix:\", cm.shape)\n",
    "\n",
    "# Kiểm tra số lớp trong ma trận và cập nhật lại display_labels nếu cần\n",
    "num_classes = cm.shape[0]\n",
    "print(\"Number of classes:\", num_classes)\n",
    "\n",
    "# Điều chỉnh display_labels sao cho phù hợp với số lớp\n",
    "display_labels = ['belly_pain', 'burping', 'discomfort', 'scared', 'tired'][:num_classes]\n",
    "\n",
    "# Hiển thị confusion matrix với đúng số lượng lớp\n",
    "disp = ConfusionMatrixDisplay(confusion_matrix=cm_percent, display_labels=display_labels)\n",
    "disp.plot(cmap='Blues', values_format=\".2f\")  \n",
    "plt.title(\"Confusion Matrix - Random Forest on Test Set\")\n",
    "plt.show()\n"
   ]
  },
  {
   "cell_type": "code",
   "execution_count": 41,
   "metadata": {},
   "outputs": [
    {
     "name": "stdout",
     "output_type": "stream",
     "text": [
      "File: 64acb345-a61e-4ef3-a5a6-cf83c04b83f1-1430058990597-1.7-m-72-dc.wav - Predicted Class for Segment 1: discomfort\n",
      "File: 64acb345-a61e-4ef3-a5a6-cf83c04b83f1-1430059012473-1.7-m-72-dc.wav - Predicted Class for Segment 2: burping\n",
      "File: 7b0e160e-0505-459e-8ecb-304d7afae9d2-1437486974312-1.7-m-04-dc.wav - Predicted Class for Segment 3: discomfort\n",
      "File: 837fd072-8704-4196-9ff1-1d2c07886e55-1432429478471-1.7-m-22-dc.wav - Predicted Class for Segment 4: tired\n",
      "File: a40b9b8d-e4bc-457a-badf-f38bdbc0c358-1430016981469-1.7-m-26-dc.wav - Predicted Class for Segment 5: burping\n",
      "File: a40b9b8d-e4bc-457a-badf-f38bdbc0c358-1430017040912-1.7-m-26-dc.wav - Predicted Class for Segment 6: discomfort\n",
      "File: ae5a462b-5424-4b5b-82d5-07ccb61654ab-1431064345173-1.7-f-48-dc.wav - Predicted Class for Segment 7: discomfort\n",
      "File: d6cda191-4962-4308-9a36-46d5648a95ed-1426942891562-1.4-f-48-dc.wav - Predicted Class for Segment 8: tired\n",
      "File: d6cda191-4962-4308-9a36-46d5648a95ed-1431161889263-1.7-m-04-dc.wav - Predicted Class for Segment 9: discomfort\n",
      "File: dc5429de-26b4-48e2-bc47-bc607b9bba06-1430741828918-1.7-f-72-hu.wav - Predicted Class for Segment 10: tired\n",
      "File: dc5429de-26b4-48e2-bc47-bc607b9bba06-1430741903654-1.7-f-72-lo.wav - Predicted Class for Segment 11: discomfort\n",
      "File: f5b29377-7cd6-4688-942c-5a07add39dc5-1437480263225-1.7-f-26-dc.wav - Predicted Class for Segment 12: burping\n"
     ]
    }
   ],
   "source": [
    "def extract_features_from_testing_directory(testing_dir):\n",
    "    X_test_files = []\n",
    "    segment_file_info = []  # Lưu thông tin về các segment và tên tệp tương ứng\n",
    "\n",
    "    for file_name in os.listdir(testing_dir):\n",
    "        file_path = os.path.join(testing_dir, file_name)\n",
    "        \n",
    "        if not os.path.isfile(file_path):\n",
    "            continue\n",
    "        \n",
    "        signal, sr = librosa.load(file_path, sr=16000)\n",
    "\n",
    "        features = extract_features(signal, sr)\n",
    "            \n",
    "        if features is not None:\n",
    "            X_test_files.append(features)\n",
    "            segment_file_info.append(file_name)  # Lưu tên tệp âm thanh tương ứng cho segment\n",
    "        else:\n",
    "            print(f\"Warning: No MFCC extracted for segment in {file_path}\")\n",
    "    \n",
    "    if len(X_test_files) > 0:\n",
    "        return np.array(X_test_files), segment_file_info\n",
    "    else:\n",
    "        return np.array([]), []\n",
    "\n",
    "\n",
    "def predict_testing_files(model_name, testing_dir, label_encoder):\n",
    "    X_test_files, segment_file_info = extract_features_from_testing_directory(testing_dir)\n",
    "    \n",
    "    if X_test_files.size == 0:\n",
    "        print(\"No valid files found in testing directory or MFCC extraction failed.\")\n",
    "        return\n",
    "\n",
    "    # Dự đoán cho từng segment\n",
    "    y_pred = model_name.predict(X_test_files)\n",
    "    y_pred_labels = label_encoder.inverse_transform(y_pred)\n",
    "    \n",
    "    # In kết quả dự đoán cho từng segment\n",
    "    for i, predicted_class in enumerate(y_pred_labels):\n",
    "        file_name = segment_file_info[i]  # Tên tệp âm thanh tương ứng\n",
    "        print(f\"File: {file_name} - Predicted Class for Segment {i+1}: {predicted_class}\")\n",
    "\n",
    "\n",
    "# Sử dụng\n",
    "label_encoder = LabelEncoder()\n",
    "label_encoder.fit(['belly_pain', 'burping', 'discomfort', 'scared', 'tired'])\n",
    "\n",
    "testing_dir = 'testing_function2/dc'  # Đảm bảo thư mục này chứa các tệp cần dự đoán\n",
    "predict_testing_files(rf_model, testing_dir, label_encoder)\n"
   ]
  },
  {
   "cell_type": "code",
   "execution_count": 39,
   "metadata": {},
   "outputs": [
    {
     "name": "stdout",
     "output_type": "stream",
     "text": [
      "Mô hình đã được lưu thành công tại randomforest_model_classification.pkl\n"
     ]
    }
   ],
   "source": [
    "import joblib\n",
    "\n",
    "model_filename = 'randomforest_model_classification.pkl'\n",
    "\n",
    "# Lưu mô hình\n",
    "joblib.dump(rf_model, model_filename)\n",
    "\n",
    "print(f\"Mô hình đã được lưu thành công tại {model_filename}\")"
   ]
  }
 ],
 "metadata": {
  "kernelspec": {
   "display_name": "Python 3",
   "language": "python",
   "name": "python3"
  },
  "language_info": {
   "codemirror_mode": {
    "name": "ipython",
    "version": 3
   },
   "file_extension": ".py",
   "mimetype": "text/x-python",
   "name": "python",
   "nbconvert_exporter": "python",
   "pygments_lexer": "ipython3",
   "version": "3.10.11"
  }
 },
 "nbformat": 4,
 "nbformat_minor": 2
}
